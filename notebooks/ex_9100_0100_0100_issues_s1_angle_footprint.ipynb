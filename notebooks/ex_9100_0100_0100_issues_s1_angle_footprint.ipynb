{
 "cells": [
  {
   "cell_type": "markdown",
   "id": "mechanical-alloy",
   "metadata": {},
   "source": [
    "problem with sentinel 1 'angle' not matching the footprint of the image.\n",
    "\n",
    "https://groups.google.com/g/google-earth-engine-developers/c/TLlnsCt0GJI/m/ln1TU7zkAQAJ"
   ]
  },
  {
   "cell_type": "code",
   "execution_count": null,
   "id": "impressed-romance",
   "metadata": {},
   "outputs": [],
   "source": [
    "import geemap\n",
    "import ee\n",
    "if not ee.data._credentials: ee.Initialize()\n",
    "\n",
    "import sys\n",
    "sys.path.append('../src/geepatches')\n",
    "import geeutils\n",
    "    \n",
    "#\n",
    "#    S1 Ground Range Detected (GRD)\n",
    "#    https://developers.google.com/earth-engine/datasets/catalog/COPERNICUS_S1_GRD\n",
    "#\n"
   ]
  },
  {
   "cell_type": "markdown",
   "id": "disturbed-architecture",
   "metadata": {},
   "source": [
    "__S1_GRD__"
   ]
  },
  {
   "cell_type": "code",
   "execution_count": null,
   "id": "sorted-difficulty",
   "metadata": {},
   "outputs": [],
   "source": [
    "\n",
    "\n",
    "eepoint           = geeutils.bobspoint\n",
    "eedatefrom        = ee.Date('2019-07-01')\n",
    "eedatetill        = ee.Date(eedatefrom).advance(1, 'day')\n",
    "s1ImageCollection = (ee.ImageCollection('COPERNICUS/S1_GRD')\n",
    "                     .filter(ee.Filter.eq('instrumentSwath', 'IW'))\n",
    "                     .filter(ee.Filter.listContains('system:band_names','VV'))\n",
    "                     .filter(ee.Filter.listContains('system:band_names','VH'))\n",
    "                     .filter(ee.Filter.listContains('system:band_names','angle'))\n",
    "                     .filterBounds(eepoint)\n",
    "                     .filter(ee.Filter.date(eedatefrom, eedatetill)))\n",
    "\n",
    "#\n",
    "#    check if we have an image\n",
    "#\n",
    "print(geeutils.szimagecollectioninfo(s1ImageCollection))\n",
    "\n",
    "#\n",
    "#    note minimum and maximum values beyond specification \n",
    "#    (https://developers.google.com/earth-engine/datasets/catalog/COPERNICUS_S1_GRD)\n",
    "#\n",
    "print(geeutils.szestimatevaluesinfo(s1ImageCollection))\n",
    "\n",
    "image = ee.Image(s1ImageCollection.first())\n",
    "\n",
    "#\n",
    "#    note the weird tranformation matrix for the 'angle' band\n",
    "#\n",
    "print(geeutils.szprojectioninfo(image))\n",
    "\n",
    "#\n",
    "#    note the 'angle' band showing pixels outside the system:footprint\n",
    "#\n",
    "map = geemap.Map()\n",
    "map.centerObject(image, 7)\n",
    "map.addLayer(image.select(['VV']),    {'min':-50, 'max':0})\n",
    "map.addLayer(image.select(['angle']), {'min':29,  'max':45, 'palette':['#0000ff','#ff0000'], 'opacity':0.3})\n",
    "map.addLayer(geeutils.outlinegeometryimage(ee.Geometry(image.get('system:footprint'))))\n",
    "\n",
    "map\n"
   ]
  },
  {
   "cell_type": "markdown",
   "id": "white-bidding",
   "metadata": {},
   "source": [
    "__S1_GRD_FLOAT__"
   ]
  },
  {
   "cell_type": "code",
   "execution_count": null,
   "id": "canadian-galaxy",
   "metadata": {},
   "outputs": [],
   "source": [
    "eepoint           = geeutils.bobspoint\n",
    "eedatefrom        = ee.Date('2019-07-01')\n",
    "eedatetill        = ee.Date(eedatefrom).advance(1, 'day')\n",
    "s1ImageCollection = (ee.ImageCollection('COPERNICUS/S1_GRD_FLOAT')\n",
    "                     .filter(ee.Filter.eq('instrumentSwath', 'IW'))\n",
    "                     .filter(ee.Filter.listContains('system:band_names','VV'))\n",
    "                     .filter(ee.Filter.listContains('system:band_names','VH'))\n",
    "                     .filter(ee.Filter.listContains('system:band_names','angle'))\n",
    "                     .filterBounds(eepoint)\n",
    "                     .filter(ee.Filter.date(eedatefrom, eedatetill)))\n",
    "\n",
    "#\n",
    "#    check if we have an image\n",
    "#\n",
    "print(geeutils.szimagecollectioninfo(s1ImageCollection))\n",
    "\n",
    "#\n",
    "#\n",
    "#\n",
    "print(geeutils.szestimatevaluesinfo(s1ImageCollection))\n",
    "\n",
    "image = ee.Image(s1ImageCollection.first())\n",
    "\n",
    "#\n",
    "#    note the weird tranformation matrix for the 'angle' band\n",
    "#\n",
    "print(geeutils.szprojectioninfo(image))\n",
    "\n",
    "#\n",
    "#    note the 'angle' band showing pixels outside the system:footprint\n",
    "#\n",
    "map = geemap.Map()\n",
    "map.centerObject(image, 7)\n",
    "map.addLayer(image.select(['VV']),    {'min':0,  'max':1})\n",
    "map.addLayer(image.select(['angle']), {'min':29, 'max':45, 'palette':['#0000ff','#ff0000'], 'opacity':0.3})\n",
    "map.addLayer(geeutils.outlinegeometryimage(ee.Geometry(image.get('system:footprint'))))\n",
    "\n",
    "map"
   ]
  },
  {
   "cell_type": "code",
   "execution_count": null,
   "id": "innocent-range",
   "metadata": {},
   "outputs": [],
   "source": []
  }
 ],
 "metadata": {
  "kernelspec": {
   "display_name": "Python 3",
   "language": "python",
   "name": "python3"
  },
  "language_info": {
   "codemirror_mode": {
    "name": "ipython",
    "version": 3
   },
   "file_extension": ".py",
   "mimetype": "text/x-python",
   "name": "python",
   "nbconvert_exporter": "python",
   "pygments_lexer": "ipython3",
   "version": "3.8.5"
  }
 },
 "nbformat": 4,
 "nbformat_minor": 5
}
