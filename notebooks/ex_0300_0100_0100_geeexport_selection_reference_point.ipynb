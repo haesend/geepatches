{
 "cells": [
  {
   "cell_type": "code",
   "execution_count": null,
   "id": "dutch-password",
   "metadata": {},
   "outputs": [],
   "source": [
    "import geemap\n",
    "import ee\n",
    "if not ee.data._credentials: ee.Initialize()\n",
    "\n",
    "import sys\n",
    "sys.path.append('../src/geepatches')\n",
    "import geeutils\n",
    "\n"
   ]
  },
  {
   "cell_type": "markdown",
   "id": "swedish-equality",
   "metadata": {},
   "source": [
    "__selection of reference point__\n",
    "\n",
    "assume reference image\\\n",
    "assume roi to be specified in (an integer) number-of-pixels (size) in context of this image or projection\\\n",
    "in case of an odd size, the reference point should be the center of a pixel\\\n",
    "in case of an even size, the reference point should be on a pixels border\n"
   ]
  },
  {
   "cell_type": "code",
   "execution_count": null,
   "id": "domestic-power",
   "metadata": {},
   "outputs": [],
   "source": [
    "def pixelcenterpoint(eepoint, eerefimage) :\n",
    "    return geeutils.centerpixelpoint(eepoint, eerefimage).transform(eerefimage.projection())\n",
    "def pixelborderpoint(epoint, eerefimage):\n",
    "    return (geeutils.centerpixelpoint(\n",
    "        eepoint, \n",
    "        eerefimage.reproject(eerefimage.projection().scale(2, 2))).transform(eerefimage.projection()))"
   ]
  },
  {
   "cell_type": "markdown",
   "id": "permanent-interim",
   "metadata": {},
   "source": [
    "__Proba V 333m__"
   ]
  },
  {
   "cell_type": "code",
   "execution_count": null,
   "id": "domestic-cloud",
   "metadata": {},
   "outputs": [],
   "source": [
    "eepoint = geeutils.tapspoint\n",
    "eedate  = geeutils.fleecycloudsday\n",
    "eeimage = geeutils.somePV333ndviImageNear(eedate, eepoint)\n",
    "\n",
    "eerefcenterpoint = pixelcenterpoint(eepoint,eeimage)\n",
    "eerefborderpoint = pixelborderpoint(eepoint,eeimage)\n",
    "\n",
    "roisizes = [ 1,2,3,4,5,6 ]\n",
    "    \n",
    "map = geemap.Map(height='600px')\n",
    "map.centerObject(eepoint, 14)\n",
    "map.addLayer(eeimage, {'min':0, 'max':1})\n",
    "for roisize in roisizes:\n",
    "    size = round(roisize) #  \"an integer\" I said.\n",
    "    if (size %2) == 0:\n",
    "        # even\n",
    "        roi = geeutils.squarerasterboundsroi(eerefborderpoint, size/2, eeimage)\n",
    "        map.addLayer(geeutils.outlinegeometryimage(roi, 0, 3), {'palette':'#0000ff', 'opacity':0.4})\n",
    "    else:\n",
    "        # odd\n",
    "        roi = geeutils.squarerasterboundsroi(eerefcenterpoint, size/2, eeimage)\n",
    "        map.addLayer(geeutils.outlinegeometryimage(roi, 0, 3), {'palette':'#00ff00', 'opacity':0.4})\n",
    "    #print(geeutils.szgeometryinfo(roi))\n",
    "map.addLayer(geeutils.outlinegeometryimage(eepoint,          20, 2), {'palette':'#ffffff'}, 'eepoint')\n",
    "map.addLayer(geeutils.outlinegeometryimage(eerefcenterpoint, 20, 2), {'palette':'#00ff00'}, 'eerefcenterpoint')\n",
    "map.addLayer(geeutils.outlinegeometryimage(eerefborderpoint, 20, 2), {'palette':'#0000ff'}, 'eerefborderpoint')\n",
    "map\n"
   ]
  },
  {
   "cell_type": "markdown",
   "id": "critical-courtesy",
   "metadata": {},
   "source": [
    "__Sentinel 1 VV/VH bands__"
   ]
  },
  {
   "cell_type": "code",
   "execution_count": null,
   "id": "interpreted-baptist",
   "metadata": {},
   "outputs": [],
   "source": [
    "eepoint = geeutils.tapspoint\n",
    "eedate  = geeutils.fleecycloudsday\n",
    "eeimage = geeutils.someS1rviImageNear(eedate, eepoint)\n",
    "\n",
    "eerefcenterpoint = pixelcenterpoint(eepoint,eeimage)\n",
    "eerefborderpoint = pixelborderpoint(eepoint,eeimage)\n",
    "\n",
    "roisizes = [ 1,2,3,4,9,10 ]\n",
    "    \n",
    "map = geemap.Map(height='600px')\n",
    "map.centerObject(eepoint, 18)\n",
    "map.addLayer(eeimage, {'min':0, 'max':1})\n",
    "for roisize in roisizes:\n",
    "    size = round(roisize)  # btw: did you know round(1.5) == 2 == round(2.5)? neat!\n",
    "    if (size %2) == 0:\n",
    "        # even\n",
    "        roi = geeutils.squarerasterboundsroi(eerefborderpoint, size/2, eeimage)\n",
    "        map.addLayer(geeutils.outlinegeometryimage(roi, 0, 3), {'palette':'#0000ff', 'opacity':0.4})\n",
    "    else:\n",
    "        # odd\n",
    "        roi = geeutils.squarerasterboundsroi(eerefcenterpoint, size/2, eeimage)\n",
    "        map.addLayer(geeutils.outlinegeometryimage(roi, 0, 3), {'palette':'#00ff00', 'opacity':0.4})\n",
    "    #print(geeutils.szgeometryinfo(roi))\n",
    "map.addLayer(geeutils.outlinegeometryimage(eepoint,          1, 2), {'palette':'#ffffff'}, 'eepoint')\n",
    "map.addLayer(geeutils.outlinegeometryimage(eerefcenterpoint, 1, 2), {'palette':'#00ff00'}, 'eerefcenterpoint')\n",
    "map.addLayer(geeutils.outlinegeometryimage(eerefborderpoint, 1, 2), {'palette':'#0000ff'}, 'eerefborderpoint')\n",
    "map\n"
   ]
  },
  {
   "cell_type": "markdown",
   "id": "younger-teddy",
   "metadata": {},
   "source": [
    "__Sentinel 1 'angle' band__"
   ]
  },
  {
   "cell_type": "code",
   "execution_count": null,
   "id": "dominican-federation",
   "metadata": {},
   "outputs": [],
   "source": [
    "\n",
    "\n",
    "eepoint = geeutils.tapspoint\n",
    "eedate  = geeutils.fleecycloudsday\n",
    "eeimage = geeutils.someImageNear(geeutils.s1rbgImageCollection.select('angle'), eedate, eepoint)\n",
    "\n",
    "eerefcenterpoint = pixelcenterpoint(eepoint,eeimage)\n",
    "eerefborderpoint = pixelborderpoint(eepoint,eeimage)\n",
    "\n",
    "print(geeutils.szestimatevaluesinfo(eeimage.clip(eepoint.buffer(100000))))\n",
    "\n",
    "roisizes = [ 1,2,3,4,5,6 ]\n",
    "    \n",
    "map = geemap.Map(height='600px')\n",
    "map.centerObject(eepoint, 8)\n",
    "map.addLayer(eeimage, {'min':30, 'max':34})\n",
    "for roisize in roisizes:\n",
    "    size = round(roisize)\n",
    "    if (size %2) == 0:\n",
    "        # even\n",
    "        roi = geeutils.squarerasterboundsroi(eerefborderpoint, size/2, eeimage)\n",
    "        map.addLayer(geeutils.outlinegeometryimage(roi, 0, 2), {'palette':'#0000ff', 'opacity':0.4})\n",
    "    else:\n",
    "        # odd\n",
    "        roi = geeutils.squarerasterboundsroi(eerefcenterpoint, size/2, eeimage)\n",
    "        map.addLayer(geeutils.outlinegeometryimage(roi, 0, 2), {'palette':'#ff0000', 'opacity':0.4})\n",
    "    #print(geeutils.szgeometryinfo(roi))\n",
    "map.addLayer(geeutils.outlinegeometryimage(eepoint,          1, 2), {'palette':'#ffffff'}, 'eepoint')\n",
    "map.addLayer(geeutils.outlinegeometryimage(eerefcenterpoint, 1, 2), {'palette':'#ff0000'}, 'eerefcenterpoint')\n",
    "map.addLayer(geeutils.outlinegeometryimage(eerefborderpoint, 1, 2), {'palette':'#0000ff'}, 'eerefborderpoint')\n",
    "map"
   ]
  },
  {
   "cell_type": "markdown",
   "id": "finnish-gambling",
   "metadata": {},
   "source": [
    "__Sentinel 2 radio bands__"
   ]
  },
  {
   "cell_type": "code",
   "execution_count": null,
   "id": "front-optimization",
   "metadata": {},
   "outputs": [],
   "source": [
    "eepoint = geeutils.tapspoint\n",
    "eedate  = geeutils.fleecycloudsday\n",
    "eeimage = geeutils.someS2ndviImageNear(eedate, eepoint)\n",
    "\n",
    "eerefcenterpoint = pixelcenterpoint(eepoint,eeimage)\n",
    "eerefborderpoint = pixelborderpoint(eepoint,eeimage)\n",
    "\n",
    "roisizes = [ 1,2,3,4,9,10 ]\n",
    "    \n",
    "map = geemap.Map(height='600px')\n",
    "map.centerObject(eepoint, 18)\n",
    "map.addLayer(eeimage, {'min':0, 'max':1})\n",
    "for roisize in roisizes:\n",
    "    size = round(roisize)\n",
    "    if (size %2) == 0:\n",
    "        # even\n",
    "        roi = geeutils.squarerasterboundsroi(eerefborderpoint, size/2, eeimage)\n",
    "        map.addLayer(geeutils.outlinegeometryimage(roi, 0, 2), {'palette':'#0000ff', 'opacity':0.4})\n",
    "    else:\n",
    "        # odd\n",
    "        roi = geeutils.squarerasterboundsroi(eerefcenterpoint, size/2, eeimage)\n",
    "        map.addLayer(geeutils.outlinegeometryimage(roi, 0, 2), {'palette':'#00ff00', 'opacity':0.4})\n",
    "    #print(geeutils.szgeometryinfo(roi))\n",
    "map.addLayer(geeutils.outlinegeometryimage(eepoint,          1, 2), {'palette':'#ffffff'}, 'eepoint')\n",
    "map.addLayer(geeutils.outlinegeometryimage(eerefcenterpoint, 1, 2), {'palette':'#00ff00'}, 'eerefcenterpoint')\n",
    "map.addLayer(geeutils.outlinegeometryimage(eerefborderpoint, 1, 2), {'palette':'#0000ff'}, 'eerefborderpoint')\n",
    "map\n"
   ]
  },
  {
   "cell_type": "code",
   "execution_count": null,
   "id": "clinical-climb",
   "metadata": {},
   "outputs": [],
   "source": []
  }
 ],
 "metadata": {
  "kernelspec": {
   "display_name": "Python 3",
   "language": "python",
   "name": "python3"
  },
  "language_info": {
   "codemirror_mode": {
    "name": "ipython",
    "version": 3
   },
   "file_extension": ".py",
   "mimetype": "text/x-python",
   "name": "python",
   "nbconvert_exporter": "python",
   "pygments_lexer": "ipython3",
   "version": "3.8.5"
  }
 },
 "nbformat": 4,
 "nbformat_minor": 5
}
