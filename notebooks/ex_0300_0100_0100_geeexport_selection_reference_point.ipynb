{
 "cells": [
  {
   "cell_type": "markdown",
   "id": "antique-difference",
   "metadata": {},
   "source": [
    "***\n",
    "some experiments with roi geometries: selection of the reference point to create congruent roi's\n",
    "***"
   ]
  },
  {
   "cell_type": "code",
   "execution_count": null,
   "id": "dutch-password",
   "metadata": {},
   "outputs": [],
   "source": [
    "import geemap\n",
    "import ee\n",
    "if not ee.data._credentials: ee.Initialize()\n",
    "\n",
    "import sys\n",
    "sys.path.append('../src/geepatches')\n",
    "import geeutils\n",
    "\n"
   ]
  },
  {
   "cell_type": "markdown",
   "id": "swedish-equality",
   "metadata": {},
   "source": [
    "***\n",
    "__selection of reference point__\n",
    "\n",
    "assume reference image\\\n",
    "assume roi to be specified in (an __integer__) number-of-pixels (size) in context of this image or projection\n",
    "\n",
    "to obtain a symetrical roi, in this image (raster), around a (reference) point, :\n",
    "- in case of an odd size, this reference point should be the center of a pixel\n",
    "- in case of an even size, this reference point should be on a pixels border (intersection on grid)\n",
    "***"
   ]
  },
  {
   "cell_type": "markdown",
   "id": "permanent-interim",
   "metadata": {},
   "source": [
    "__Proba V 333m__"
   ]
  },
  {
   "cell_type": "code",
   "execution_count": null,
   "id": "domestic-cloud",
   "metadata": {},
   "outputs": [],
   "source": [
    "eepoint = geeutils.tapspoint\n",
    "eedate  = geeutils.fleecycloudsday\n",
    "eeimage = geeutils.somePV333ndviImageNear(eedate, eepoint)\n",
    "\n",
    "eerefcenterpoint = geeutils.pixelcenterpoint(eepoint,eeimage)\n",
    "eerefborderpoint = geeutils.pixelinterspoint(eepoint,eeimage)\n",
    "#print(geeutils.szgeometryinfo(eerefcenterpoint))\n",
    "#print(geeutils.szgeometryinfo(eerefborderpoint))\n",
    "\n",
    "roisizes = [ 1,2,3,4,5,6 ]\n",
    "    \n",
    "map = geemap.Map(height='500px')\n",
    "map.centerObject(eepoint, 14)\n",
    "map.addLayer(eeimage, {'min':0, 'max':1})\n",
    "for roisize in roisizes:\n",
    "    size = round(roisize) #  \"an integer\" I said.\n",
    "    if (size %2) == 0:\n",
    "        # even\n",
    "        roi = geeutils.squarerasterboundsroi(eerefborderpoint, size/2, eeimage) # pixelsradius will be 1, 2, ...\n",
    "        map.addLayer(geeutils.outlinegeometryimage(roi, 0, 2), {'palette':'#0000ff', 'opacity':0.9})\n",
    "    else:\n",
    "        # odd\n",
    "        roi = geeutils.squarerasterboundsroi(eerefcenterpoint, size/2, eeimage) # pixelsradius will be 0.5, 1.5, ...\n",
    "        map.addLayer(geeutils.outlinegeometryimage(roi, 0, 7), {'palette':'#ff0000', 'opacity':0.3})\n",
    "    #print(geeutils.szgeometryinfo(roi))\n",
    "map.addLayer(geeutils.outlinegeometryimage(eepoint,          30, 2), {'palette':'#00ff00'}, 'eepoint')\n",
    "map.addLayer(geeutils.outlinegeometryimage(eerefcenterpoint, 30, 2), {'palette':'#ff0000'}, 'eerefcenterpoint')\n",
    "map.addLayer(geeutils.outlinegeometryimage(eerefborderpoint, 30, 2), {'palette':'#0000ff'}, 'eerefborderpoint')\n",
    "map\n"
   ]
  },
  {
   "cell_type": "markdown",
   "id": "critical-courtesy",
   "metadata": {},
   "source": [
    "__Sentinel 1 VV/VH bands__"
   ]
  },
  {
   "cell_type": "code",
   "execution_count": null,
   "id": "interpreted-baptist",
   "metadata": {},
   "outputs": [],
   "source": [
    "eepoint = geeutils.bobspoint\n",
    "eedate  = geeutils.fleecycloudsday\n",
    "eeimage = geeutils.someS1rviImageNear(eedate, eepoint)\n",
    "\n",
    "eerefcenterpoint = geeutils.pixelcenterpoint(eepoint,eeimage)\n",
    "eerefborderpoint = geeutils.pixelinterspoint(eepoint,eeimage)\n",
    "\n",
    "roisizes = [ 1,2,3,4,9,10 ]\n",
    "    \n",
    "map = geemap.Map(height='500px')\n",
    "map.centerObject(eepoint, 18)\n",
    "map.addLayer(eeimage, {'min':0, 'max':1})\n",
    "for roisize in roisizes:\n",
    "    size = round(roisize)  # btw: did you know round(1.5) == 2 == round(2.5)? neat...\n",
    "    if (size %2) == 0:\n",
    "        # even\n",
    "        roi = geeutils.squarerasterboundsroi(eerefborderpoint, size/2, eeimage)\n",
    "        map.addLayer(geeutils.outlinegeometryimage(roi, 0, 2), {'palette':'#0000ff', 'opacity':0.9})\n",
    "    else:\n",
    "        # odd\n",
    "        roi = geeutils.squarerasterboundsroi(eerefcenterpoint, size/2, eeimage)\n",
    "        map.addLayer(geeutils.outlinegeometryimage(roi, 0, 7), {'palette':'#ff0000', 'opacity':0.3})\n",
    "    #print(geeutils.szgeometryinfo(roi))\n",
    "map.addLayer(geeutils.outlinegeometryimage(eepoint,          1, 2), {'palette':'#00ff00'}, 'eepoint')\n",
    "map.addLayer(geeutils.outlinegeometryimage(eerefcenterpoint, 1, 2), {'palette':'#ff0000'}, 'eerefcenterpoint')\n",
    "map.addLayer(geeutils.outlinegeometryimage(eerefborderpoint, 1, 2), {'palette':'#0000ff'}, 'eerefborderpoint')\n",
    "map\n"
   ]
  },
  {
   "cell_type": "markdown",
   "id": "younger-teddy",
   "metadata": {},
   "source": [
    "__Sentinel 1 'angle' band__\n",
    "- compare results for COPERNICUS/S1_GRD and (undocumented?) COPERNICUS/S1_GRD_**FLOAT** collection\n"
   ]
  },
  {
   "cell_type": "code",
   "execution_count": null,
   "id": "dominican-federation",
   "metadata": {},
   "outputs": [],
   "source": [
    "if False:\n",
    "    collection = geeutils.s1rbgImageCollection\n",
    "else:\n",
    "    s1floatImageCollection    = ee.ImageCollection('COPERNICUS/S1_GRD_FLOAT')\n",
    "    s1floatrbgImageCollection = (s1floatImageCollection\n",
    "                               .filter(ee.Filter.listContains('system:band_names','VV'))\n",
    "                               .filter(ee.Filter.listContains('system:band_names','VH'))\n",
    "                               .filter(ee.Filter.listContains('system:band_names','angle'))\n",
    "                               .select(['VV', 'VH', 'angle']))                                  # False Color - not everywhere available\n",
    "    collection = s1floatrbgImageCollection\n",
    "\n",
    "eepoint = geeutils.tapspoint\n",
    "eedate  = geeutils.fleecycloudsday\n",
    "eeimage = geeutils.someImageNear(collection.select('angle'), eedate, eepoint)\n",
    "\n",
    "min = eeimage.reduceRegion(ee.Reducer.min()).values().get(0).getInfo()\n",
    "max = eeimage.reduceRegion(ee.Reducer.max()).values().get(0).getInfo()\n",
    "\n",
    "eerefcenterpoint = geeutils.pixelcenterpoint(eepoint,eeimage)\n",
    "eerefborderpoint = geeutils.pixelinterspoint(eepoint,eeimage)\n",
    "\n",
    "print(geeutils.szestimatevaluesinfo(eeimage.clip(eepoint.buffer(100000))))\n",
    "\n",
    "roisizes = [ 1,2,3,4,5,6 ]\n",
    "    \n",
    "map = geemap.Map(height='600px')\n",
    "map.centerObject(eepoint, 8)\n",
    "map.addLayer(eeimage, {'min':min, 'max':max})\n",
    "for roisize in roisizes:\n",
    "    size = round(roisize)\n",
    "    if (size %2) == 0:\n",
    "        # even\n",
    "        roi = geeutils.squarerasterboundsroi(eerefborderpoint, size/2, eeimage)\n",
    "        map.addLayer(geeutils.outlinegeometryimage(roi, 0, 2), {'palette':'#0000ff', 'opacity':0.9})\n",
    "    else:\n",
    "        # odd\n",
    "        roi = geeutils.squarerasterboundsroi(eerefcenterpoint, size/2, eeimage)\n",
    "        map.addLayer(geeutils.outlinegeometryimage(roi, 0, 7), {'palette':'#ff0000', 'opacity':0.3})\n",
    "    #print(geeutils.szgeometryinfo(roi))\n",
    "map.addLayer(geeutils.outlinegeometryimage(eepoint,          800, 2), {'palette':'#00ff00'}, 'eepoint')\n",
    "map.addLayer(geeutils.outlinegeometryimage(eerefcenterpoint, 800, 2), {'palette':'#ff0000'}, 'eerefcenterpoint')\n",
    "map.addLayer(geeutils.outlinegeometryimage(eerefborderpoint, 800, 2), {'palette':'#0000ff'}, 'eerefborderpoint')\n",
    "map"
   ]
  },
  {
   "cell_type": "markdown",
   "id": "finnish-gambling",
   "metadata": {},
   "source": [
    "__Sentinel 2 radio bands__"
   ]
  },
  {
   "cell_type": "code",
   "execution_count": null,
   "id": "front-optimization",
   "metadata": {},
   "outputs": [],
   "source": [
    "eepoint = geeutils.tapspoint\n",
    "eedate  = geeutils.fleecycloudsday\n",
    "eeimage = geeutils.someS2ndviImageNear(eedate, eepoint)\n",
    "\n",
    "eerefcenterpoint = geeutils.pixelcenterpoint(eepoint,eeimage)\n",
    "eerefborderpoint = geeutils.pixelinterspoint(eepoint,eeimage)\n",
    "\n",
    "roisizes = [ 1,2,3,4,9,10 ]\n",
    "    \n",
    "map = geemap.Map(height='500px')\n",
    "map.centerObject(eepoint, 18)\n",
    "map.addLayer(eeimage, {'min':0, 'max':1})\n",
    "for roisize in roisizes:\n",
    "    size = round(roisize)\n",
    "    if (size %2) == 0:\n",
    "        # even\n",
    "        roi = geeutils.squarerasterboundsroi(eerefborderpoint, size/2, eeimage)\n",
    "        map.addLayer(geeutils.outlinegeometryimage(roi, 0, 2), {'palette':'#0000ff', 'opacity':0.9})\n",
    "    else:\n",
    "        # odd\n",
    "        roi = geeutils.squarerasterboundsroi(eerefcenterpoint, size/2, eeimage)\n",
    "        map.addLayer(geeutils.outlinegeometryimage(roi, 0, 7), {'palette':'#ff0000', 'opacity':0.3})\n",
    "    #print(geeutils.szgeometryinfo(roi))\n",
    "map.addLayer(geeutils.outlinegeometryimage(eepoint,          1, 2), {'palette':'#00ff00'}, 'eepoint')\n",
    "map.addLayer(geeutils.outlinegeometryimage(eerefcenterpoint, 1, 2), {'palette':'#ff0000'}, 'eerefcenterpoint')\n",
    "map.addLayer(geeutils.outlinegeometryimage(eerefborderpoint, 1, 2), {'palette':'#0000ff'}, 'eerefborderpoint')\n",
    "map\n"
   ]
  },
  {
   "cell_type": "code",
   "execution_count": null,
   "id": "clinical-climb",
   "metadata": {},
   "outputs": [],
   "source": []
  }
 ],
 "metadata": {
  "kernelspec": {
   "display_name": "Python 3",
   "language": "python",
   "name": "python3"
  },
  "language_info": {
   "codemirror_mode": {
    "name": "ipython",
    "version": 3
   },
   "file_extension": ".py",
   "mimetype": "text/x-python",
   "name": "python",
   "nbconvert_exporter": "python",
   "pygments_lexer": "ipython3",
   "version": "3.8.5"
  }
 },
 "nbformat": 4,
 "nbformat_minor": 5
}
