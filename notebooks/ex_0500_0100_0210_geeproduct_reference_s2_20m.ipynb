{
 "cells": [
  {
   "cell_type": "markdown",
   "id": "alpha-might",
   "metadata": {},
   "source": [
    "__GEECol classes__\n",
    "\n",
    "using S2 20 as reference collection\n",
    "\n"
   ]
  },
  {
   "cell_type": "code",
   "execution_count": null,
   "id": "appreciated-titanium",
   "metadata": {},
   "outputs": [],
   "source": [
    "import geemap\n",
    "import ee\n",
    "if not ee.data._credentials: ee.Initialize()\n",
    "\n",
    "import sys\n",
    "sys.path.append('../src/geepatches')\n",
    "import geeutils\n",
    "import geeproduct\n"
   ]
  },
  {
   "cell_type": "markdown",
   "id": "blank-checkout",
   "metadata": {},
   "source": [
    "__S2 10m with reference S2 20m__"
   ]
  },
  {
   "cell_type": "code",
   "execution_count": null,
   "id": "joined-press",
   "metadata": {},
   "outputs": [],
   "source": [
    "eepoint              = geeutils.tapspoint\n",
    "eedate               = geeutils.fleecycloudsday\n",
    "\n",
    "refgeecollection     = geeproduct.GEECol_s2scl()\n",
    "refroipixelsdiameter = 4\n",
    "trggeecollection     = geeproduct.GEECol_s2ndvi()\n",
    "trgroipixelsdiameter = 8\n",
    "\n",
    "trggeecollection.getcollection(\n",
    "    eedate, eedate.advance(1, 'week'), eepoint, trgroipixelsdiameter, \n",
    "    refcollection=refgeecollection, refroipixelsdiameter=refroipixelsdiameter, verbose=False)\n",
    "\n",
    "eerefimage       = trggeecollection._eerefimage\n",
    "eerefroi         = trggeecollection._eerefroi\n",
    "eeroicenterpoint = trggeecollection._eeroicenterpoint\n",
    "eesrcimage       = trggeecollection._eenatimagecollection.first()\n",
    "eetrgimage       = trggeecollection._eedstimagecollection.first()\n",
    "\n",
    "\n",
    "map = geemap.Map(height='400px')\n",
    "map.centerObject(eepoint, 18)\n",
    "map.addLayer(eesrcimage, {'min':0, 'max':1},      'eesrcimage')\n",
    "map.addLayer(eerefimage, geeutils.s2sclvisParams, 'eerefimage')\n",
    "map.addLayer(eetrgimage, {'min':0, 'max':1},      'eetrgimage')\n",
    "map.addLayer(geeutils.outlinegeometryimage(eerefroi, 0, 2),         {'palette':'#0000ff'}, 'eerefroi')\n",
    "map.addLayer(geeutils.outlinegeometryimage(eepoint,          1, 2), {'palette':'#ff0000'}, 'eepoint')\n",
    "map.addLayer(geeutils.outlinegeometryimage(eeroicenterpoint, 1, 2), {'palette':'#00ff00'}, 'eeroicenterpoint')\n",
    "map\n"
   ]
  },
  {
   "cell_type": "markdown",
   "id": "expanded-right",
   "metadata": {},
   "source": [
    "__Sentinel 1 VV/VH bands with reference S2 20m__"
   ]
  },
  {
   "cell_type": "code",
   "execution_count": null,
   "id": "czech-enough",
   "metadata": {},
   "outputs": [],
   "source": [
    "eepoint              = geeutils.bobspoint\n",
    "eedate               = geeutils.fleecycloudsday\n",
    "refgeecollection     = geeproduct.GEECol_s2scl()\n",
    "refroipixelsdiameter = 8\n",
    "trggeecollection     = geeproduct.GEECol_s1rvi()\n",
    "trgroipixelsdiameter = 8\n",
    "\n",
    "trggeecollection.getcollection(\n",
    "    eedate, eedate.advance(1, 'week'), eepoint, trgroipixelsdiameter, \n",
    "    refcollection=refgeecollection, refroipixelsdiameter=refroipixelsdiameter, verbose=False)\n",
    "\n",
    "eerefimage       = trggeecollection._eerefimage\n",
    "eerefroi         = trggeecollection._eerefroi\n",
    "eeroicenterpoint = trggeecollection._eeroicenterpoint\n",
    "eesrcimage       = trggeecollection._eenatimagecollection.first()\n",
    "eetrgimage       = trggeecollection._eedstimagecollection.first()\n",
    "\n",
    "map = geemap.Map(height='600px')\n",
    "map.centerObject(eepoint, 18)\n",
    "map.addLayer(eesrcimage, {'min':0, 'max':1},      'eesrcimage')\n",
    "map.addLayer(eerefimage, geeutils.s2sclvisParams, 'eerefimage')\n",
    "map.addLayer(eetrgimage, {'min':0, 'max':1},      'eetrgimage')\n",
    "map.addLayer(geeutils.outlinegeometryimage(eerefroi, 0, 2),         {'palette':'#0000ff'}, 'eerefroi')\n",
    "map.addLayer(geeutils.outlinegeometryimage(eepoint,          1, 2), {'palette':'#ff0000'}, 'eepoint')\n",
    "map.addLayer(geeutils.outlinegeometryimage(eeroicenterpoint, 1, 2), {'palette':'#00ff00'}, 'eeroicenterpoint')\n",
    "map"
   ]
  },
  {
   "cell_type": "markdown",
   "id": "classical-injury",
   "metadata": {},
   "source": [
    "__Sentinel 2 SCL ConvMask band with reference S2 20m__"
   ]
  },
  {
   "cell_type": "code",
   "execution_count": null,
   "id": "macro-impact",
   "metadata": {},
   "outputs": [],
   "source": [
    "eepoint              = geeutils.tapspoint\n",
    "eedate               = geeutils.fleecycloudsday\n",
    "refgeecollection     = geeproduct.GEECol_s2scl()\n",
    "refroipixelsdiameter = 16\n",
    "trggeecollection     = geeproduct.GEECol_s2sclsclconvmask()\n",
    "trgroipixelsdiameter = 16\n",
    "\n",
    "trggeecollection.getcollection(\n",
    "    eedate, eedate.advance(1, 'week'), eepoint, trgroipixelsdiameter, \n",
    "    refcollection=refgeecollection, refroipixelsdiameter=refroipixelsdiameter, verbose=False)\n",
    "\n",
    "eerefimage       = trggeecollection._eerefimage\n",
    "eerefroi         = trggeecollection._eerefroi\n",
    "eeroicenterpoint = trggeecollection._eeroicenterpoint\n",
    "eesrcimage       = trggeecollection._eenatimagecollection.first()\n",
    "eetrgimage       = trggeecollection._eedstimagecollection.first()\n",
    "\n",
    "eesrcimage = eesrcimage.updateMask(eesrcimage.eq(1)) # clear sky transparant\n",
    "eetrgimage = eetrgimage.updateMask(eetrgimage.eq(1))\n",
    "\n",
    "map = geemap.Map(height='600px')\n",
    "map.centerObject(eepoint, 18)\n",
    "map.addLayer(eesrcimage, {'min':0,  'max':1},                                              'eesrcimage')\n",
    "map.addLayer(eerefimage, geeutils.s2sclvisParams,                                          'eerefimage')\n",
    "map.addLayer(eetrgimage, {'min':0,  'max':1},                                              'eetrgimage')\n",
    "map.addLayer(geeutils.outlinegeometryimage(eerefroi,         0, 2), {'palette':'#0000ff'}, 'eerefroi')\n",
    "map.addLayer(geeutils.outlinegeometryimage(eepoint,          1, 2), {'palette':'#ff0000'}, 'eepoint')\n",
    "map.addLayer(geeutils.outlinegeometryimage(eeroicenterpoint, 1, 2), {'palette':'#00ff00'}, 'eeroicenterpoint')\n",
    "map"
   ]
  },
  {
   "cell_type": "code",
   "execution_count": null,
   "id": "naked-introduction",
   "metadata": {},
   "outputs": [],
   "source": []
  }
 ],
 "metadata": {
  "kernelspec": {
   "display_name": "Python 3",
   "language": "python",
   "name": "python3"
  },
  "language_info": {
   "codemirror_mode": {
    "name": "ipython",
    "version": 3
   },
   "file_extension": ".py",
   "mimetype": "text/x-python",
   "name": "python",
   "nbconvert_exporter": "python",
   "pygments_lexer": "ipython3",
   "version": "3.8.5"
  }
 },
 "nbformat": 4,
 "nbformat_minor": 5
}
