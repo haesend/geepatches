{
 "cells": [
  {
   "cell_type": "markdown",
   "id": "indie-football",
   "metadata": {},
   "source": [
    "***\n",
    "__ClassFractions__ fractions (frequency) image for class values in as  ImageCollection of classifications\n",
    "***"
   ]
  },
  {
   "cell_type": "code",
   "execution_count": null,
   "id": "contained-stick",
   "metadata": {},
   "outputs": [],
   "source": [
    "import geemap\n",
    "import ee\n",
    "if not ee.data._credentials: ee.Initialize()\n",
    "\n",
    "import sys\n",
    "sys.path.append('../src/geepatches')\n",
    "import geeutils\n",
    "import geeproduct\n",
    "import geemask"
   ]
  },
  {
   "cell_type": "code",
   "execution_count": null,
   "id": "prostate-martin",
   "metadata": {},
   "outputs": [],
   "source": [
    "eepoint            = geeutils.half31UESpoint #geeutils.tennvenlopoint #geeutils.brusselspoint       #geeutils.half31UESpoint #\n",
    "eedatefrom         = geeutils.half31UESday #ee.Date('2018-01-01') \n",
    "#eedatefrom         = eedatefrom.advance(2, 'day')\n",
    "eedatetill         = eedatefrom.advance(1, 'year')\n",
    "eeroi              = geeutils.squareareaboundsroi(eepoint, 100/2*20)\n",
    "verbose            = False\n",
    "\n",
    "rgbimage           = geeproduct.GEECol_s2rgb().collect(eeroi, eedatefrom, eedatetill, verbose=verbose).first()\n",
    "\n",
    "sclimagecollection = geeproduct.GEECol_s2scl().collect(eeroi, eedatefrom, eedatetill, verbose=verbose)\n",
    "sclimage           = sclimagecollection.first()\n",
    "\n",
    "classfractionsmaker = geemask.ClassFractions([4,5,6], [8,9,10]) #geemask.ClassFractions([8,9,10])\n",
    "fractionsimage      = classfractionsmaker.makefractions(sclimagecollection)\n",
    "print (geeutils.szprojectioninfo(fractionsimage))\n",
    "fractionsimage      = fractionsimage.setDefaultProjection(sclimagecollection.first().projection())\n",
    "print (geeutils.szprojectioninfo(fractionsimage))\n",
    "print (geeutils.szestimatevaluesinfo(fractionsimage.clip(eeroi))) # clip; otherwise unbounded\n",
    "xin = fractionsimage.clip(eeroi).reduceRegion(ee.Reducer.min()).values().get(0).getInfo()\n",
    "xax = fractionsimage.clip(eeroi).reduceRegion(ee.Reducer.max()).values().get(0).getInfo()\n",
    "print (xin, xax)\n",
    "\n",
    "\n",
    "map = geemap.Map(height='600px')\n",
    "map.centerObject(eepoint, 12)\n",
    "map.addLayer(rgbimage,                                   {'min': 1,  'max':255},                 'rgb')\n",
    "map.addLayer(sclimage,                                   geeutils.s2sclvisParams,                'scl')\n",
    "\n",
    "map.addLayer(fractionsimage,                             {'min':xin,  'max':xax},                'fct')                        \n",
    "map.addLayer(geeutils.outlinegeometryimage(eeroi, 0, 1), {'palette':'#ff0000'},                  'roi')\n",
    "map"
   ]
  },
  {
   "cell_type": "code",
   "execution_count": null,
   "id": "aware-research",
   "metadata": {},
   "outputs": [],
   "source": [
    "eepoint       = geeutils.antwerppoint\n",
    "eedatefrom    = ee.Date('2018-01-01') \n",
    "eedatetill    = eedatefrom.advance(1, 'year')\n",
    "eeroi         = geeutils.squareareaboundsroi(eepoint, 10000)\n",
    "verbose       = False\n",
    "\n",
    "eeimagecollection   = geeproduct.GEECol_s2scl().collect(eeroi, eedatefrom, eedatetill, verbose=verbose)\n",
    "classfractionsmaker = geemask.ClassFractions([8,9,10])\n",
    "cloudfractionsimage = classfractionsmaker.makefractions(eeimagecollection)\n",
    "print (geeutils.szprojectioninfo(cloudfractionsimage))\n",
    "\n",
    "cloudfractionsimage = cloudfractionsimage.setDefaultProjection(eeimagecollection.first().projection())\n",
    "print (geeutils.szprojectioninfo(cloudfractionsimage))\n",
    "print (geeutils.szestimatevaluesinfo(cloudfractionsimage.clip(eeroi))) # clip; otherwise unbounded\n",
    "xin = cloudfractionsimage.clip(eeroi).reduceRegion(ee.Reducer.min()).values().get(0).getInfo()\n",
    "xax = cloudfractionsimage.clip(eeroi).reduceRegion(ee.Reducer.max()).values().get(0).getInfo()\n",
    "\n",
    "map = geemap.Map(height='600px')\n",
    "map.centerObject(eepoint, 11)\n",
    "map.addLayer(cloudfractionsimage,                              {'min':xin,  'max':xax}) #, 'opacity':0.95},   'clouds')                        \n",
    "map.addLayer(geeutils.outlinegeometryimage(eeroi, 0, 1),       {'palette':'#ff0000'})\n",
    "map\n"
   ]
  },
  {
   "cell_type": "code",
   "execution_count": null,
   "id": "loved-residence",
   "metadata": {},
   "outputs": [],
   "source": []
  }
 ],
 "metadata": {
  "kernelspec": {
   "display_name": "Python 3",
   "language": "python",
   "name": "python3"
  },
  "language_info": {
   "codemirror_mode": {
    "name": "ipython",
    "version": 3
   },
   "file_extension": ".py",
   "mimetype": "text/x-python",
   "name": "python",
   "nbconvert_exporter": "python",
   "pygments_lexer": "ipython3",
   "version": "3.8.5"
  }
 },
 "nbformat": 4,
 "nbformat_minor": 5
}
