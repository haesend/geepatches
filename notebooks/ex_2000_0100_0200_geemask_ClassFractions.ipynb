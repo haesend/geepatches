{
 "cells": [
  {
   "cell_type": "markdown",
   "id": "indie-football",
   "metadata": {},
   "source": [
    "***\n",
    "__ClassFractions__ fractions (frequency) image for class values in as  ImageCollection of classifications\n",
    "***"
   ]
  },
  {
   "cell_type": "code",
   "execution_count": null,
   "id": "contained-stick",
   "metadata": {},
   "outputs": [],
   "source": [
    "import geemap\n",
    "import ee\n",
    "if not ee.data._credentials: ee.Initialize()\n",
    "\n",
    "import sys\n",
    "sys.path.append('../src/geepatches')\n",
    "import geeutils\n",
    "import geeproduct\n",
    "import geemask"
   ]
  },
  {
   "cell_type": "markdown",
   "id": "determined-harbor",
   "metadata": {},
   "source": [
    "__ClassFractions S2 Scene CLassification__ \n",
    "- are cloud-related classes homogeneous?\n",
    "- 'bright' buildigs are abnormally 'clouded'\n",
    "- water (rivers) seems abnormally 'clouded'"
   ]
  },
  {
   "cell_type": "code",
   "execution_count": null,
   "id": "aging-equity",
   "metadata": {},
   "outputs": [],
   "source": [
    "eepoint            = geeutils.half31UESpoint #geeutils.tennvenlopoint #geeutils.brusselspoint\n",
    "eedatefrom         = geeutils.half31UESday   #ee.Date('2018-01-01') \n",
    "eedatetill         = eedatefrom.advance(1, 'year')\n",
    "eeroi              = geeutils.squareareaboundsroi(eepoint, 25000)\n",
    "verbose            = False\n",
    "\n",
    "#\n",
    "# background rgb\n",
    "#\n",
    "rgbimage = geeproduct.GEECol_s2rgb().collect(eeroi, geeutils.clearskyday,  geeutils.clearskyday.advance(1, 'day')).first()\n",
    "\n",
    "#\n",
    "# scl collection\n",
    "#\n",
    "sclimagecollection = geeproduct.GEECol_s2scl().collect(eeroi, eedatefrom, eedatetill, verbose=verbose)\n",
    "sclimage           = sclimagecollection.first()\n",
    "\n",
    "#\n",
    "# class fractions\n",
    "#\n",
    "classfractionsmaker = geemask.ClassFractions([3,8,9,10,11])\n",
    "fractionsimage      = classfractionsmaker.makefractions(sclimagecollection)\n",
    "fractionsimage      = fractionsimage.setDefaultProjection(sclimagecollection.first().projection())\n",
    "\n",
    "print (geeutils.szestimatevaluesinfo(fractionsimage.clip(eeroi))) # clip; otherwise unbounded\n",
    "xin = fractionsimage.clip(eeroi).reduceRegion(ee.Reducer.min()).values().get(0).getInfo()\n",
    "xax = fractionsimage.clip(eeroi).reduceRegion(ee.Reducer.max()).values().get(0).getInfo()\n",
    "\n",
    "\n",
    "map = geemap.Map(height='600px')\n",
    "map.centerObject(eepoint, 13)\n",
    "map.addLayer(rgbimage,                                       {'min': 1,  'max':255},                 'rgb')\n",
    "map.addLayer(sclimage,                                       geeutils.s2sclvisParams,                'scl')\n",
    "\n",
    "map.addLayer(fractionsimage,                                 {'min':xin,  'max':xax},                'fct')                        \n",
    "map.addLayer(geeutils.outlinegeometryimage(eepoint, 100, 2), {'palette':'#ff0000'},                  'roi')\n",
    "map"
   ]
  },
  {
   "cell_type": "markdown",
   "id": "competent-interest",
   "metadata": {},
   "source": [
    "__ClassFractions S2 Scene CLassification__ \n",
    "- water (rivers) seems abnormally 'dark area' too"
   ]
  },
  {
   "cell_type": "code",
   "execution_count": null,
   "id": "artistic-latex",
   "metadata": {},
   "outputs": [],
   "source": [
    "eepoint            = geeutils.half31UESpoint #geeutils.tennvenlopoint #geeutils.brusselspoint\n",
    "eedatefrom         = geeutils.half31UESday   #ee.Date('2018-01-01') \n",
    "eedatetill         = eedatefrom.advance(1, 'year')\n",
    "eeroi              = geeutils.squareareaboundsroi(eepoint, 25000)\n",
    "verbose            = False\n",
    "\n",
    "rgbimage = geeproduct.GEECol_s2rgb().collect(eeroi, geeutils.clearskyday,  geeutils.clearskyday.advance(1, 'day')).first()\n",
    "\n",
    "sclimagecollection = geeproduct.GEECol_s2scl().collect(eeroi, eedatefrom, eedatetill, verbose=verbose)\n",
    "\n",
    "map = geemap.Map(height='600px')\n",
    "map.centerObject(eepoint, 13)\n",
    "map.addLayer(rgbimage, {'min': 1,  'max':255}, 'rgb')\n",
    "\n",
    "for scclass in [2,4,5,6,7] :\n",
    "    classfractionsmaker = geemask.ClassFractions([scclass])\n",
    "    fractionsimage      = classfractionsmaker.makefractions(sclimagecollection)\n",
    "    fractionsimage      = fractionsimage.setDefaultProjection(sclimagecollection.first().projection())\n",
    "\n",
    "    print (f\"class({scclass})\\n {geeutils.szestimatevaluesinfo(fractionsimage.clip(eeroi))}\") # clip; otherwise unbounded\n",
    "    xin = fractionsimage.clip(eeroi).reduceRegion(ee.Reducer.min()).values().get(0).getInfo()\n",
    "    xax = fractionsimage.clip(eeroi).reduceRegion(ee.Reducer.max()).values().get(0).getInfo()\n",
    "\n",
    "\n",
    "    map.addLayer(fractionsimage, {'min':xin,  'max':xax}, f\"fct({scclass})\")                        \n",
    "\n",
    "map.addLayer(geeutils.outlinegeometryimage(eepoint, 100, 2), {'palette':'#ff0000'},                  'roi')\n",
    "map"
   ]
  },
  {
   "cell_type": "code",
   "execution_count": null,
   "id": "median-conservation",
   "metadata": {},
   "outputs": [],
   "source": [
    "eepoint            = geeutils.half31UESpoint #geeutils.tennvenlopoint #geeutils.brusselspoint\n",
    "eedatefrom         = geeutils.half31UESday   #ee.Date('2018-01-01') \n",
    "eedatetill         = eedatefrom.advance(1, 'year')\n",
    "eeroi              = geeutils.squareareaboundsroi(eepoint, 25000)\n",
    "verbose            = False\n",
    "\n",
    "rgbimage = geeproduct.GEECol_s2rgb().collect(eeroi, geeutils.clearskyday,  geeutils.clearskyday.advance(1, 'day')).first()\n",
    "\n",
    "sclimagecollection = geeproduct.GEECol_s2scl().collect(eeroi, eedatefrom, eedatetill, verbose=verbose)\n",
    "\n",
    "map = geemap.Map(height='600px')\n",
    "map.centerObject(eepoint, 13)\n",
    "map.addLayer(rgbimage, {'min': 1,  'max':255}, 'rgb')\n",
    "\n",
    "for scclass in [2,4,5,6,7] :\n",
    "    classfractionsmaker = geemask.ClassFractions([scclass], [3,8,9,10,11])\n",
    "    fractionsimage      = classfractionsmaker.makefractions(sclimagecollection)\n",
    "    fractionsimage      = fractionsimage.setDefaultProjection(sclimagecollection.first().projection())\n",
    "\n",
    "    print (f\"class({scclass})\\n {geeutils.szestimatevaluesinfo(fractionsimage.clip(eeroi))}\") # clip; otherwise unbounded\n",
    "    xin = fractionsimage.clip(eeroi).reduceRegion(ee.Reducer.min()).values().get(0).getInfo()\n",
    "    xax = fractionsimage.clip(eeroi).reduceRegion(ee.Reducer.max()).values().get(0).getInfo()\n",
    "\n",
    "\n",
    "    map.addLayer(fractionsimage, {'min':xin,  'max':xax}, f\"fct({scclass})\")                        \n",
    "\n",
    "map.addLayer(geeutils.outlinegeometryimage(eepoint, 100, 2), {'palette':'#ff0000'},                  'roi')\n",
    "map"
   ]
  },
  {
   "cell_type": "code",
   "execution_count": null,
   "id": "loved-residence",
   "metadata": {},
   "outputs": [],
   "source": []
  }
 ],
 "metadata": {
  "kernelspec": {
   "display_name": "Python 3",
   "language": "python",
   "name": "python3"
  },
  "language_info": {
   "codemirror_mode": {
    "name": "ipython",
    "version": 3
   },
   "file_extension": ".py",
   "mimetype": "text/x-python",
   "name": "python",
   "nbconvert_exporter": "python",
   "pygments_lexer": "ipython3",
   "version": "3.8.5"
  }
 },
 "nbformat": 4,
 "nbformat_minor": 5
}
