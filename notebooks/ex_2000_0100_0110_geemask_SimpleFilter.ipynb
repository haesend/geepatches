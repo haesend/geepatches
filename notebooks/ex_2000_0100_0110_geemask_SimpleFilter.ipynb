{
 "cells": [
  {
   "cell_type": "markdown",
   "id": "complex-configuration",
   "metadata": {},
   "source": [
    "***\n",
    "__SimpleFilter__: filtering imagecollections based on classification bands\n",
    "***"
   ]
  },
  {
   "cell_type": "code",
   "execution_count": null,
   "id": "dominican-flexibility",
   "metadata": {},
   "outputs": [],
   "source": [
    "import geemap\n",
    "import ee\n",
    "if not ee.data._credentials: ee.Initialize()\n",
    "\n",
    "import sys\n",
    "sys.path.append('../src/geepatches')\n",
    "import geeutils\n",
    "import geeproduct\n",
    "import geemask"
   ]
  },
  {
   "cell_type": "markdown",
   "id": "composite-amazon",
   "metadata": {},
   "source": [
    "***\n",
    "using the geemask.SimpleFilter class directly on a collection\n",
    "***"
   ]
  },
  {
   "cell_type": "code",
   "execution_count": null,
   "id": "gothic-clearance",
   "metadata": {},
   "outputs": [],
   "source": [
    "#\n",
    "# on GEECol_s2scl\n",
    "#\n",
    "eepoint       = geeutils.bobspoint\n",
    "eedatefrom    = geeutils.fleecycloudsday\n",
    "eedatetill    = eedatefrom.advance(1, 'month')\n",
    "\n",
    "roidiameter   = 128\n",
    "eeregion      = geeutils.squareareaboundsroi(eepoint, roidiameter/2*20)\n",
    "verbose       = False\n",
    "\n",
    "eeimagecollection  = geeproduct.GEECol_s2scl().collect(eeregion, eedatefrom, eedatetill, verbose=verbose)\n",
    "print( geeutils.szimagecollectioninfo(eeimagecollection) )\n",
    "\n",
    "#\n",
    "# filter\n",
    "#\n",
    "s2sclfilter   = geemask.SimpleFilter('SCL', [8, 9, 10], -95) # 'SCL' band MUST be available in the collection\n",
    "eeimagecollection = s2sclfilter.filtercollection(eeimagecollection, eeregion, verbose=verbose)\n",
    "print( geeutils.szimagecollectioninfo(eeimagecollection) )\n",
    "\n",
    "#\n",
    "# remark: \n",
    "#   properties eeallclscnt, eeselclscnt and eeselclspct are set \n",
    "#   in the SimpleFilter.filtercollection call, but should be considered volatile;\n",
    "#   e.g. GEE_Col.collect(...) will not preserve these\n",
    "#\n",
    "for iIdx in range(eeimagecollection.size().getInfo()):\n",
    "    img = ee.Image(eeimagecollection.toList(eeimagecollection.size()).get(iIdx))\n",
    "    print(geeutils.szISO8601Date(img.date()), \n",
    "          f\" - all pix: {int(ee.Number(img.get('eeallclscnt')).round().getInfo()):6d}\", \n",
    "          f\" - sel pix: {int(ee.Number(img.get('eeselclscnt')).round().getInfo()):6d}\",\n",
    "          f\" - sel pct: {float(ee.Number(img.get('eeselclspct')).multiply(100).round().divide(100).getInfo()):6.2f}%\")\n"
   ]
  },
  {
   "cell_type": "code",
   "execution_count": null,
   "id": "restricted-relation",
   "metadata": {},
   "outputs": [],
   "source": [
    "#\n",
    "# on GEECol_pv333sm\n",
    "#\n",
    "eepoint       = geeutils.bobspoint\n",
    "eedatefrom    = geeutils.fleecycloudsday\n",
    "eedatetill    = eedatefrom.advance(1, 'month')\n",
    "\n",
    "roidiameter   = 128/20*333\n",
    "eeregion      = geeutils.squareareaboundsroi(eepoint, roidiameter/2*20)\n",
    "verbose       = False\n",
    "\n",
    "eeimagecollection  = geeproduct.GEECol_pv333sm().collect(eeregion, eedatefrom, eedatetill, verbose=verbose)\n",
    "print( geeutils.szimagecollectioninfo(eeimagecollection) )\n",
    "\n",
    "#\n",
    "# filter\n",
    "#\n",
    "s2sclfilter   = geemask.SimpleFilter('SM', [112, 120, 240, 248], 5) # 'SM' band MUST be available in the collection\n",
    "eeimagecollection = s2sclfilter.filtercollection(eeimagecollection, eeregion, verbose=verbose)\n",
    "print( geeutils.szimagecollectioninfo(eeimagecollection) )\n",
    "\n",
    "#\n",
    "# remark: \n",
    "#   properties eeallclscnt, eeselclscnt and eeselclspct are set \n",
    "#   in the SimpleFilter.filtercollection call, but should be considered volatile;\n",
    "#   e.g. GEE_Col.collect(...) will not preserve these\n",
    "#\n",
    "for iIdx in range(eeimagecollection.size().getInfo()):\n",
    "    img = ee.Image(eeimagecollection.toList(eeimagecollection.size()).get(iIdx))\n",
    "    print(geeutils.szISO8601Date(img.date()), \n",
    "          f\" - all pix: {int(ee.Number(img.get('eeallclscnt')).round().getInfo()):6d}\", \n",
    "          f\" - sel pix: {int(ee.Number(img.get('eeselclscnt')).round().getInfo()):6d}\",\n",
    "          f\" - sel pct: {float(ee.Number(img.get('eeselclspct')).multiply(100).round().divide(100).getInfo()):6.2f}%\")\n"
   ]
  },
  {
   "cell_type": "markdown",
   "id": "sealed-willow",
   "metadata": {},
   "source": [
    "***\n",
    "using the geemask.SimpleFilter class with Sentinel 2 GEE_Col products (ndvi, fapar,... products allow filter)\n",
    "***"
   ]
  },
  {
   "cell_type": "code",
   "execution_count": null,
   "id": "transparent-heath",
   "metadata": {},
   "outputs": [],
   "source": [
    "eepoint       = geeutils.bobspoint\n",
    "eedatefrom    = geeutils.fleecycloudsday\n",
    "eedatetill    = eedatefrom.advance(1, 'year')\n",
    "\n",
    "roidiameter   = 128\n",
    "eeregion      = geeutils.squareareaboundsroi(eepoint, roidiameter/2*20)\n",
    "verbose       = False\n",
    "\n",
    "for threshold in [-100, -50, -20, -10, -5, -2, -1, -0.5, -0.2, -0.1, 0]: # negative thresholds = MAXIMUM allowed\n",
    "    s2sclfilter        = geemask.SimpleFilter('SCL', [3, 8, 9, 10], threshold)\n",
    "    eeimagecollection  = geeproduct.GEECol_s2fapar(s2sclfilter).collect(eeregion, eedatefrom, eedatetill, verbose)\n",
    "    #\n",
    "    # remark: properties eeallclscnt, eeselclscnt and eeselclspct are NOT available in collection anymore \n",
    "    #\n",
    "    print( f\"threshold ({float(threshold):8.2f}) - remaining images: {eeimagecollection.size().getInfo()}\" )\n"
   ]
  },
  {
   "cell_type": "markdown",
   "id": "adult-conservation",
   "metadata": {},
   "source": [
    "***\n",
    "using the geemask.SimpleFilter class with Prova V GEE_Col products (ndvi... products allow filter)\n",
    "***"
   ]
  },
  {
   "cell_type": "code",
   "execution_count": null,
   "id": "extra-church",
   "metadata": {},
   "outputs": [],
   "source": [
    "eepoint       = geeutils.bobspoint\n",
    "eedatefrom    = geeutils.fleecycloudsday\n",
    "eedatetill    = eedatefrom.advance(1, 'year')\n",
    "\n",
    "roidiameter   = 128/20*333\n",
    "eeregion      = geeutils.squareareaboundsroi(eepoint, roidiameter/2*20)\n",
    "verbose       = False\n",
    "\n",
    "for threshold in [0.001, 1, 2, 5, 10, 20, 50, 80, 90, 95, 100]: # positive thresholds = MINIMUM required (0 is considered negative!)\n",
    "    pvsmfilter         = geemask.SimpleFilter('SM', [112, 120, 240, 248], threshold)\n",
    "    eeimagecollection  = geeproduct.GEECol_pv333ndvi(pvsmfilter).collect(eeregion, eedatefrom, eedatetill, verbose)\n",
    "    #\n",
    "    # remark: properties eeallclscnt, eeselclscnt and eeselclspct are NOT available in collection anymore \n",
    "    #\n",
    "    print( f\"threshold ({float(threshold):8.2f}) - remaining images: {eeimagecollection.size().getInfo()}\" )"
   ]
  },
  {
   "cell_type": "code",
   "execution_count": null,
   "id": "skilled-deviation",
   "metadata": {},
   "outputs": [],
   "source": []
  }
 ],
 "metadata": {
  "kernelspec": {
   "display_name": "Python 3",
   "language": "python",
   "name": "python3"
  },
  "language_info": {
   "codemirror_mode": {
    "name": "ipython",
    "version": 3
   },
   "file_extension": ".py",
   "mimetype": "text/x-python",
   "name": "python",
   "nbconvert_exporter": "python",
   "pygments_lexer": "ipython3",
   "version": "3.8.5"
  }
 },
 "nbformat": 4,
 "nbformat_minor": 5
}
