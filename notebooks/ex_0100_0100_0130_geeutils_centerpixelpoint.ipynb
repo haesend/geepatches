{
 "cells": [
  {
   "cell_type": "code",
   "execution_count": null,
   "id": "dutch-password",
   "metadata": {},
   "outputs": [],
   "source": [
    "import geemap\n",
    "import ee\n",
    "if not ee.data._credentials: ee.Initialize()\n",
    "\n",
    "import sys\n",
    "sys.path.append('../src/geepatches')\n",
    "import geeutils\n",
    "\n"
   ]
  },
  {
   "cell_type": "markdown",
   "id": "swedish-equality",
   "metadata": {},
   "source": [
    "__centerpixelpoint(eepoint, eerefimage)__\n",
    "\n"
   ]
  },
  {
   "cell_type": "markdown",
   "id": "permanent-interim",
   "metadata": {},
   "source": [
    "__Proba V 333m__"
   ]
  },
  {
   "cell_type": "code",
   "execution_count": null,
   "id": "domestic-cloud",
   "metadata": {},
   "outputs": [],
   "source": [
    "eepoint = geeutils.tapspoint\n",
    "eedate  = geeutils.fleecycloudsday\n",
    "eeimage = geeutils.somePV333ndviImageNear(eedate, eepoint)\n",
    "\n",
    "#print(geeutils.szestimatevaluesinfo(eeimage.clip(eepoint.buffer(10*333))))\n",
    "\n",
    "eecenterpixelpoint = geeutils.centerpixelpoint(eepoint, eeimage)\n",
    "rois = [geeutils.squarerasterboundsroi(eecenterpixelpoint, pixels, eeimage) for pixels in [0.5, 1, 1.5, 2, 2.5, 3.5]]\n",
    "\n",
    "map = geemap.Map(height='300px')\n",
    "map.centerObject(eepoint, 14)\n",
    "map.addLayer(eeimage, {'min':0, 'max':1})\n",
    "for roi in rois:\n",
    "    #print(geeutils.szgeometryinfo(roi))\n",
    "    map.addLayer(geeutils.outlinegeometryimage(roi),                   {'palette':'#ff0000'})\n",
    "map.addLayer(geeutils.outlinegeometryimage(eepoint,            10, 2), {'palette':'#00ff00'}, 'eepoint')\n",
    "map.addLayer(geeutils.outlinegeometryimage(eecenterpixelpoint, 10, 2), {'palette':'#0000ff'}, 'eecenterpixelpoint')\n",
    "map\n"
   ]
  },
  {
   "cell_type": "markdown",
   "id": "critical-courtesy",
   "metadata": {},
   "source": [
    "__Sentinel 1 VV/VH bands__"
   ]
  },
  {
   "cell_type": "code",
   "execution_count": null,
   "id": "interpreted-baptist",
   "metadata": {},
   "outputs": [],
   "source": [
    "eepoint = geeutils.tapspoint\n",
    "eedate  = geeutils.fleecycloudsday\n",
    "eeimage = geeutils.someS1rviImageNear(eedate, eepoint)\n",
    "\n",
    "print(geeutils.szestimatevaluesinfo(eeimage))\n",
    "\n",
    "eecenterpixelpoint = geeutils.centerpixelpoint(eepoint, eeimage)\n",
    "rois = [geeutils.squarerasterboundsroi(eecenterpixelpoint, pixels, eeimage) for pixels in [0.5, 1, 3.5, 4.5]]\n",
    "\n",
    "map = geemap.Map(height='300px')\n",
    "map.centerObject(eepoint, 18)\n",
    "map.addLayer(eeimage, {'min':0, 'max':1})\n",
    "for roi in rois:\n",
    "    #print(geeutils.szgeometryinfo(roi))\n",
    "    map.addLayer(geeutils.outlinegeometryimage(roi),                  {'palette':'#ff0000'})\n",
    "map.addLayer(geeutils.outlinegeometryimage(eepoint,            1, 2), {'palette':'#00ff00'}, 'eepoint')\n",
    "map.addLayer(geeutils.outlinegeometryimage(eecenterpixelpoint, 1, 2), {'palette':'#0000ff'}, 'eecenterpixelpoint')\n",
    "map"
   ]
  },
  {
   "cell_type": "markdown",
   "id": "younger-teddy",
   "metadata": {},
   "source": [
    "__Sentinel 1 'angle' band__"
   ]
  },
  {
   "cell_type": "code",
   "execution_count": null,
   "id": "dominican-federation",
   "metadata": {},
   "outputs": [],
   "source": [
    "eepoint = geeutils.tapspoint\n",
    "eedate  = geeutils.fleecycloudsday\n",
    "eeimage = geeutils.someImageNear(geeutils.s1rbgImageCollection.select(['angle']), eedate, eepoint)\n",
    "\n",
    "#print(geeutils.szestimatevaluesinfo(eeimage))\n",
    "#print(geeutils.szimagecollectioninfo(eeimage))\n",
    "\n",
    "eecenterpixelpoint = geeutils.centerpixelpoint(eepoint, eeimage)\n",
    "rois = [geeutils.squarerasterboundsroi(eecenterpixelpoint, pixels, eeimage) for pixels in [0.5, 1.5, 2.5, 9.5]]\n",
    "\n",
    "map = geemap.Map(height='300px')\n",
    "map.centerObject(eepoint, 6)\n",
    "map.addLayer(eeimage, {'min':30, 'max':45})\n",
    "for roi in rois:\n",
    "    #print(geeutils.szgeometryinfo(roi))\n",
    "    map.addLayer(geeutils.outlinegeometryimage(roi),                   {'palette':'#ff0000'})\n",
    "map.addLayer(geeutils.outlinegeometryimage(eepoint,            10, 2), {'palette':'#00ff00'}, 'eepoint')\n",
    "map.addLayer(geeutils.outlinegeometryimage(eecenterpixelpoint, 10, 2), {'palette':'#0000ff'}, 'eecenterpixelpoint')\n",
    "map"
   ]
  },
  {
   "cell_type": "markdown",
   "id": "finnish-gambling",
   "metadata": {},
   "source": [
    "__Sentinel 2 radio bands__"
   ]
  },
  {
   "cell_type": "code",
   "execution_count": null,
   "id": "front-optimization",
   "metadata": {},
   "outputs": [],
   "source": [
    "eepoint = geeutils.tapspoint\n",
    "eedate  = geeutils.fleecycloudsday\n",
    "eeimage = geeutils.someS2ndviImageNear(eedate, eepoint)\n",
    "\n",
    "print(geeutils.szestimatevaluesinfo(eeimage))\n",
    "\n",
    "eecenterpixelpoint = geeutils.centerpixelpoint(eepoint, eeimage)\n",
    "rois = [geeutils.squarerasterboundsroi(eecenterpixelpoint, pixels, eeimage) for pixels in [0.5, 1.5, 2.5, 9.5]]\n",
    "\n",
    "map = geemap.Map(height='300px')\n",
    "map.centerObject(eepoint, 17)\n",
    "map.addLayer(eeimage, {'min':0, 'max':1})\n",
    "for roi in rois:\n",
    "    #print(geeutils.szgeometryinfo(roi))\n",
    "    map.addLayer(geeutils.outlinegeometryimage(roi),                  {'palette':'#ff0000'})\n",
    "map.addLayer(geeutils.outlinegeometryimage(eepoint,            2, 2), {'palette':'#00ff00'}, 'eepoint')\n",
    "map.addLayer(geeutils.outlinegeometryimage(eecenterpixelpoint, 2, 2), {'palette':'#ffffff'}, 'eecenterpixelpoint')\n",
    "map"
   ]
  },
  {
   "cell_type": "code",
   "execution_count": null,
   "id": "clinical-climb",
   "metadata": {},
   "outputs": [],
   "source": []
  }
 ],
 "metadata": {
  "kernelspec": {
   "display_name": "Python 3",
   "language": "python",
   "name": "python3"
  },
  "language_info": {
   "codemirror_mode": {
    "name": "ipython",
    "version": 3
   },
   "file_extension": ".py",
   "mimetype": "text/x-python",
   "name": "python",
   "nbconvert_exporter": "python",
   "pygments_lexer": "ipython3",
   "version": "3.8.5"
  }
 },
 "nbformat": 4,
 "nbformat_minor": 5
}
