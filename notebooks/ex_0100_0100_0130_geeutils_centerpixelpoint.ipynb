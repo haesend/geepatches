{
 "cells": [
  {
   "cell_type": "code",
   "execution_count": null,
   "id": "dutch-password",
   "metadata": {},
   "outputs": [],
   "source": [
    "import geemap\n",
    "import ee\n",
    "if not ee.data._credentials: ee.Initialize()\n",
    "\n",
    "import sys\n",
    "sys.path.append('../src/geepatches')\n",
    "import geeutils\n",
    "\n"
   ]
  },
  {
   "cell_type": "markdown",
   "id": "swedish-equality",
   "metadata": {},
   "source": [
    "__pixelcenterpoint(eepoint, eerefimage)__\\\n",
    "__pixelinterspoint(eepoint, eerefimage)__\n",
    "\n"
   ]
  },
  {
   "cell_type": "markdown",
   "id": "permanent-interim",
   "metadata": {},
   "source": [
    "__Proba V 333m__"
   ]
  },
  {
   "cell_type": "code",
   "execution_count": null,
   "id": "domestic-cloud",
   "metadata": {},
   "outputs": [],
   "source": [
    "eepoint = geeutils.tapspoint\n",
    "eedate  = geeutils.fleecycloudsday\n",
    "eeimage = geeutils.somePV333ndviImageNear(eedate, eepoint)\n",
    "\n",
    "#print(geeutils.szestimatevaluesinfo(eeimage.clip(eepoint.buffer(10*333))))\n",
    "\n",
    "eepixelcenterpoint = geeutils.pixelcenterpoint(eepoint, eeimage)\n",
    "rois = [geeutils.squarerasterboundsroi(eepixelcenterpoint, pixelsradius, eeimage) for pixelsradius in [0.5, 1, 1.5, 2, 3.5]]\n",
    "\n",
    "map = geemap.Map(height='300px')\n",
    "map.centerObject(eepoint, 14)\n",
    "map.addLayer(eeimage, {'min':0, 'max':1}, 'eeimage')\n",
    "for roi in rois:\n",
    "    #print(geeutils.szgeometryinfo(roi))\n",
    "    map.addLayer(geeutils.outlinegeometryimage(roi),                   {'palette':'#ff0000'})\n",
    "map.addLayer(geeutils.outlinegeometryimage(eepoint,            10, 2), {'palette':'#00ff00'}, 'eepoint')\n",
    "map.addLayer(geeutils.outlinegeometryimage(eepixelcenterpoint, 10, 2), {'palette':'#0000ff'}, 'eepixelcenterpoint')\n",
    "map\n"
   ]
  },
  {
   "cell_type": "code",
   "execution_count": null,
   "id": "dynamic-defensive",
   "metadata": {},
   "outputs": [],
   "source": [
    "eepoint = geeutils.tapspoint\n",
    "eedate  = geeutils.fleecycloudsday\n",
    "eeimage = geeutils.somePV333ndviImageNear(eedate, eepoint)\n",
    "\n",
    "#print(geeutils.szestimatevaluesinfo(eeimage.clip(eepoint.buffer(10*333))))\n",
    "\n",
    "eepixelinterspoint = geeutils.pixelinterspoint(eepoint, eeimage)\n",
    "rois = [geeutils.squarerasterboundsroi(eepixelinterspoint, pixelsradius, eeimage) for pixelsradius in [0.5, 1, 1.5, 2, 3.5]]\n",
    "\n",
    "map = geemap.Map(height='300px')\n",
    "map.centerObject(eepoint, 14)\n",
    "map.addLayer(eeimage, {'min':0, 'max':1}, 'eeimage')\n",
    "for roi in rois:\n",
    "    #print(geeutils.szgeometryinfo(roi))\n",
    "    map.addLayer(geeutils.outlinegeometryimage(roi),                   {'palette':'#ff0000'})\n",
    "map.addLayer(geeutils.outlinegeometryimage(eepoint,            10, 2), {'palette':'#00ff00'}, 'eepoint')\n",
    "map.addLayer(geeutils.outlinegeometryimage(eepixelinterspoint, 10, 2), {'palette':'#0000ff'}, 'eepixelinterspoint')\n",
    "map\n"
   ]
  },
  {
   "cell_type": "markdown",
   "id": "critical-courtesy",
   "metadata": {},
   "source": [
    "__Sentinel 1 VV/VH bands__"
   ]
  },
  {
   "cell_type": "code",
   "execution_count": null,
   "id": "interpreted-baptist",
   "metadata": {},
   "outputs": [],
   "source": [
    "eepoint = geeutils.tapspoint\n",
    "eedate  = geeutils.fleecycloudsday\n",
    "eeimage = geeutils.someS1rviImageNear(eedate, eepoint)\n",
    "\n",
    "print(geeutils.szestimatevaluesinfo(eeimage))\n",
    "\n",
    "eepixelcenterpoint = geeutils.pixelcenterpoint(eepoint, eeimage)\n",
    "rois = [geeutils.squarerasterboundsroi(eepixelcenterpoint, pixelsradius, eeimage) for pixelsradius in [0.5, 1, 3.5, 4.5]]\n",
    "\n",
    "map = geemap.Map(height='300px')\n",
    "map.centerObject(eepoint, 18)\n",
    "map.addLayer(eeimage, {'min':0, 'max':1}, 'eeimage')\n",
    "for roi in rois:\n",
    "    #print(geeutils.szgeometryinfo(roi))\n",
    "    map.addLayer(geeutils.outlinegeometryimage(roi),                  {'palette':'#ff0000'})\n",
    "map.addLayer(geeutils.outlinegeometryimage(eepoint,            1, 2), {'palette':'#00ff00'}, 'eepoint')\n",
    "map.addLayer(geeutils.outlinegeometryimage(eepixelcenterpoint, 1, 2), {'palette':'#0000ff'}, 'eepixelcenterpoint')\n",
    "map"
   ]
  },
  {
   "cell_type": "code",
   "execution_count": null,
   "id": "needed-physics",
   "metadata": {},
   "outputs": [],
   "source": [
    "eepoint = geeutils.tapspoint\n",
    "eedate  = geeutils.fleecycloudsday\n",
    "eeimage = geeutils.someS1rviImageNear(eedate, eepoint)\n",
    "\n",
    "print(geeutils.szestimatevaluesinfo(eeimage))\n",
    "\n",
    "eepixelinterspoint = geeutils.pixelinterspoint(eepoint, eeimage)\n",
    "rois = [geeutils.squarerasterboundsroi(eepixelinterspoint, pixelsradius, eeimage) for pixelsradius in [0.5, 1, 3, 4]]\n",
    "\n",
    "map = geemap.Map(height='300px')\n",
    "map.centerObject(eepoint, 18)\n",
    "map.addLayer(eeimage, {'min':0, 'max':1}, 'eeimage')\n",
    "for roi in rois:\n",
    "    #print(geeutils.szgeometryinfo(roi))\n",
    "    map.addLayer(geeutils.outlinegeometryimage(roi),                  {'palette':'#ff0000'})\n",
    "map.addLayer(geeutils.outlinegeometryimage(eepoint,            1, 2), {'palette':'#00ff00'}, 'eepoint')\n",
    "map.addLayer(geeutils.outlinegeometryimage(eepixelinterspoint, 1, 2), {'palette':'#0000ff'}, 'eepixelinterspoint')\n",
    "map"
   ]
  },
  {
   "cell_type": "markdown",
   "id": "younger-teddy",
   "metadata": {},
   "source": [
    "__Sentinel 1 'angle' band__"
   ]
  },
  {
   "cell_type": "code",
   "execution_count": null,
   "id": "dominican-federation",
   "metadata": {},
   "outputs": [],
   "source": [
    "eepoint = geeutils.tapspoint\n",
    "eedate  = geeutils.fleecycloudsday\n",
    "eeimage = geeutils.someImageNear(geeutils.s1rbgImageCollection.select(['angle']), eedate, eepoint)\n",
    "\n",
    "#print(geeutils.szestimatevaluesinfo(eeimage))\n",
    "#print(geeutils.szimagecollectioninfo(eeimage))\n",
    "\n",
    "eepixelcenterpoint = geeutils.pixelcenterpoint(eepoint, eeimage)\n",
    "rois = [geeutils.squarerasterboundsroi(eepixelcenterpoint, pixelsradius, eeimage) for pixelsradius in [0.5, 1.5, 2.5, 9.5]]\n",
    "\n",
    "map = geemap.Map(height='300px')\n",
    "map.centerObject(eepoint, 6)\n",
    "map.addLayer(eeimage, {'min':30, 'max':45}, 'eeimage')\n",
    "for roi in rois:\n",
    "    #print(geeutils.szgeometryinfo(roi))\n",
    "    map.addLayer(geeutils.outlinegeometryimage(roi),                   {'palette':'#ff0000'})\n",
    "map.addLayer(geeutils.outlinegeometryimage(eepoint,            10, 2), {'palette':'#00ff00'}, 'eepoint')\n",
    "map.addLayer(geeutils.outlinegeometryimage(eepixelcenterpoint, 10, 2), {'palette':'#0000ff'}, 'eepixelcenterpoint')\n",
    "map"
   ]
  },
  {
   "cell_type": "markdown",
   "id": "finnish-gambling",
   "metadata": {},
   "source": [
    "__Sentinel 2 radio bands__"
   ]
  },
  {
   "cell_type": "code",
   "execution_count": null,
   "id": "front-optimization",
   "metadata": {},
   "outputs": [],
   "source": [
    "eepoint = geeutils.tapspoint\n",
    "eedate  = geeutils.fleecycloudsday\n",
    "eeimage = geeutils.someS2ndviImageNear(eedate, eepoint)\n",
    "\n",
    "print(geeutils.szestimatevaluesinfo(eeimage))\n",
    "\n",
    "eepixelcenterpoint = geeutils.pixelcenterpoint(eepoint, eeimage)\n",
    "rois = [geeutils.squarerasterboundsroi(eepixelcenterpoint, pixelsradius, eeimage) for pixelsradius in [0.5, 1.5, 2.5, 9.5]]\n",
    "\n",
    "map = geemap.Map(height='300px')\n",
    "map.centerObject(eepoint, 17)\n",
    "map.addLayer(eeimage, {'min':0, 'max':1}, 'eeimage')\n",
    "for roi in rois:\n",
    "    #print(geeutils.szgeometryinfo(roi))\n",
    "    map.addLayer(geeutils.outlinegeometryimage(roi),                  {'palette':'#ff0000'})\n",
    "map.addLayer(geeutils.outlinegeometryimage(eepoint,            2, 2), {'palette':'#00ff00'}, 'eepoint')\n",
    "map.addLayer(geeutils.outlinegeometryimage(eepixelcenterpoint, 2, 2), {'palette':'#ffffff'}, 'eepixelcenterpoint')\n",
    "map"
   ]
  },
  {
   "cell_type": "code",
   "execution_count": null,
   "id": "clinical-climb",
   "metadata": {},
   "outputs": [],
   "source": [
    "eepoint = geeutils.tapspoint\n",
    "eedate  = geeutils.fleecycloudsday\n",
    "eeimage = geeutils.someS2ndviImageNear(eedate, eepoint)\n",
    "\n",
    "print(geeutils.szestimatevaluesinfo(eeimage))\n",
    "\n",
    "eepixelinterspoint = geeutils.pixelinterspoint(eepoint, eeimage)\n",
    "rois = [geeutils.squarerasterboundsroi(eepixelinterspoint, pixelsradius, eeimage) for pixelsradius in [0.5, 1, 2, 9]]\n",
    "\n",
    "map = geemap.Map(height='300px')\n",
    "map.centerObject(eepoint, 17)\n",
    "map.addLayer(eeimage, {'min':0, 'max':1}, 'eeimage')\n",
    "for roi in rois:\n",
    "    #print(geeutils.szgeometryinfo(roi))\n",
    "    map.addLayer(geeutils.outlinegeometryimage(roi),                  {'palette':'#ff0000'})\n",
    "map.addLayer(geeutils.outlinegeometryimage(eepoint,            2, 2), {'palette':'#00ff00'}, 'eepoint')\n",
    "map.addLayer(geeutils.outlinegeometryimage(eepixelinterspoint, 2, 2), {'palette':'#ffffff'}, 'eepixelinterspoint')\n",
    "map"
   ]
  },
  {
   "cell_type": "code",
   "execution_count": null,
   "id": "adopted-present",
   "metadata": {},
   "outputs": [],
   "source": []
  }
 ],
 "metadata": {
  "kernelspec": {
   "display_name": "Python 3",
   "language": "python",
   "name": "python3"
  },
  "language_info": {
   "codemirror_mode": {
    "name": "ipython",
    "version": 3
   },
   "file_extension": ".py",
   "mimetype": "text/x-python",
   "name": "python",
   "nbconvert_exporter": "python",
   "pygments_lexer": "ipython3",
   "version": "3.8.5"
  }
 },
 "nbformat": 4,
 "nbformat_minor": 5
}
