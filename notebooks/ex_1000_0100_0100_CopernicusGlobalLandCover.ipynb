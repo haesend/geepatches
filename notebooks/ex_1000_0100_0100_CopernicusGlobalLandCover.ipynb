{
 "cells": [
  {
   "cell_type": "markdown",
   "id": "proprietary-hours",
   "metadata": {},
   "source": [
    "***\n",
    "https://developers.google.com/earth-engine/datasets/catalog/COPERNICUS_Landcover_100m_Proba-V-C3_Global\n",
    "***"
   ]
  },
  {
   "cell_type": "code",
   "execution_count": null,
   "id": "pressing-courtesy",
   "metadata": {},
   "outputs": [],
   "source": [
    "import geemap\n",
    "import ee\n",
    "if not ee.data._credentials: ee.Initialize()\n",
    "\n",
    "import sys\n",
    "sys.path.append('../src/geepatches')\n",
    "import geeutils"
   ]
  },
  {
   "cell_type": "markdown",
   "id": "tamil-frontier",
   "metadata": {},
   "source": [
    "***\n",
    "__landcover__:\n",
    "_'discrete_classification'_ band of most recent image in _'COPERNICUS/Landcover/100m/Proba-V-C3/Global'_ collection\n",
    "***"
   ]
  },
  {
   "cell_type": "code",
   "execution_count": null,
   "id": "lovely-consortium",
   "metadata": {},
   "outputs": [],
   "source": [
    "#\n",
    "# using discrete_classification band of most recent landcover image\n",
    "#\n",
    "eeclassification = (ee.ImageCollection('COPERNICUS/Landcover/100m/Proba-V-C3/Global')\n",
    "                   .sort('system:time_start', False)  # reverse sort\n",
    "                   .first()                           # most recent\n",
    "                   .select('discrete_classification') # Land cover classification 0..200\n",
    "                   .unmask(0, sameFootprint=False))   # 0 = Unknown; in gee used as mask\n",
    "#\n",
    "#\n",
    "#\n",
    "map = geemap.Map(height='600px')\n",
    "map.centerObject(geeutils.bobspoint, 2)\n",
    "map.addLayer(eeclassification) # the palette is in the image properties, but I wonder how the link is made.\n",
    "map\n"
   ]
  },
  {
   "cell_type": "markdown",
   "id": "figured-illinois",
   "metadata": {},
   "source": [
    "***\n",
    "__most frequent landuse class in an roi__ - using mode (unweighted)\n",
    "***"
   ]
  },
  {
   "cell_type": "code",
   "execution_count": null,
   "id": "fifteen-nitrogen",
   "metadata": {
    "scrolled": false
   },
   "outputs": [],
   "source": [
    "eepoint = geeutils.pixelinterspoint(geeutils.bobspoint, eeclassification)\n",
    "#\n",
    "# most frequent class in a region: reduceRegion(ee.Reducer.mode().unweighted())\n",
    "# - in case we have the region congruent with the native raster 'unweighted()' is obsolete\n",
    "# - for random regions we need unweighted() to avoid (float) values between two classes due to 'partial' of pixels\n",
    "# - eventually \"sea\" (200) of \"no data\" (0) will always win for very large regions\n",
    "#\n",
    "map = geemap.Map(height='600px')\n",
    "map.centerObject(eepoint, 4)\n",
    "map.addLayer(eeclassification)\n",
    "pixelsradius = 1\n",
    "for iIdx in range(16):\n",
    "    eeregion = geeutils.squarerasterboundsroi(eepoint, pixelsradius, eeclassification)\n",
    "    map.addLayer(geeutils.outlinegeometryimage(eeregion, 5, 2), {'palette':'#000000'} )\n",
    "    map.addLayer(geeutils.outlinegeometryimage(eeregion, 0, 2), {'palette':'#ff0000'} )\n",
    "    # radius (half width - in pixels) of region \n",
    "    sz  = f\"radius({pixelsradius})\"\n",
    "    # pixelcount in this roi\n",
    "    sz += f\" - pixels({eeclassification.reduceRegion(ee.Reducer.count(), eeregion, maxPixels=1e13).values().get(0).getInfo()})\"\n",
    "    # mode in this roi (most frequent pixel value - land use class)\n",
    "    sz += f\" - mode({eeclassification.reduceRegion(ee.Reducer.mode().unweighted(), eeregion, maxPixels=1e13).values().get(0).getInfo()})\"\n",
    "    # distinct pixel values (land use types) in this roi\n",
    "    sz += f\" - disctinct({eeclassification.reduceRegion(ee.Reducer.countDistinct(), eeregion, maxPixels=1e13).values().get(0).getInfo()})\"\n",
    "    print(sz)\n",
    "    # start small and grow - distinct types should increase, eventually we'll expect mostly water (class 200)\n",
    "    pixelsradius = pixelsradius * 2\n",
    "map\n"
   ]
  },
  {
   "cell_type": "markdown",
   "id": "binding-default",
   "metadata": {},
   "source": [
    "***\n",
    "some properties\n",
    "- one image per year 2015-2019\n",
    "- Web-Mercator 100m\n",
    "- classes 0-200\n",
    "***"
   ]
  },
  {
   "cell_type": "code",
   "execution_count": null,
   "id": "transsexual-shopper",
   "metadata": {},
   "outputs": [],
   "source": [
    "eeimagecollection = ee.ImageCollection('COPERNICUS/Landcover/100m/Proba-V-C3/Global')\n",
    "eeimagecollection = eeimagecollection.select('discrete_classification')\n",
    "#\n",
    "# some properties\n",
    "#\n",
    "print(geeutils.szimagecollectioninfo(eeimagecollection))\n",
    "#\n",
    "# EPSG:3857 Pseudo-Mercator aka Web-Mercator\n",
    "#\n",
    "print(geeutils.szprojectioninfo(eeimagecollection.first()))\n",
    "#\n",
    "# unbound \n",
    "#\n",
    "print(f\"unbound ? {eeimagecollection.first().geometry().isUnbounded().getInfo()}\")\n",
    "#\n",
    "# Image.reduceRegion does not work on unbounded images\n",
    "#      print(geeutils.szestimatevaluesinfo(eeimagecollection.first() - unbound\n",
    "#\n",
    "# clipping to a region?\n",
    "#    https://groups.google.com/g/google-earth-engine-developers/c/eO22be7vsPw/m/nJxM2QVEAQAJ\n",
    "#    Noel Gorelick - 6 October 2016\n",
    "#    We have problems with global rectangles; \n",
    "#    best to just avoid them and use a non-geodesic polygon with more than 4 points instead:\n",
    "#    region = ee.Geometry.Polygon([-180, 90, 0, 90, 180, 90, 180, -90, 10, -90, -180, -90], null, false)\n",
    "#\n",
    "#      region = ee.Geometry.Polygon([-180, 90, 0, 90, 180, 90, 180, -90, 10, -90, -180, -90], None, False)\n",
    "#      print(geeutils.szestimatevaluesinfo(eeimagecollection.first().clip(region))) - still unbound\n",
    "# \n",
    "# there seems to be no way to obtain a global roi.\n",
    "# there seems to be no way to obtain a 'nearly' global roi neither\n",
    "# and I cannot find any guide, spec, explanation, ... telling me anything about the criteria or limitations\n",
    "#\n",
    "#      region = ee.Geometry.Polygon([-150, 80,        150, 80, 150, -80,        -150, -80, -150, 80], None, False)\n",
    "#      print(geeutils.szestimatevaluesinfo(eeimagecollection.first().clip(region))) - still unbound but '149' becomes bound\n",
    "#\n",
    "region_geodesic    = ee.Geometry.Polygon([-149, 80,        149, 80, 149, -80,        -149, -80, -149, 80], None, False)\n",
    "region_nongeodesic = ee.Geometry.Polygon([-149, 80, 0, 80, 149, 80, 149, -80, 0, -80,-149, -80, -149, 80], None, True)\n",
    "print(geeutils.szestimatevaluesinfo(eeimagecollection.first().clip(region_geodesic)))\n",
    "print(geeutils.szestimatevaluesinfo(eeimagecollection.first().clip(region_nongeodesic)))\n",
    "\n",
    "map = geemap.Map(height='600px')\n",
    "map.centerObject(geeutils.bobspoint, 0)\n",
    "map.addLayer(geeutils.outlinegeometryimage(region_nongeodesic, 0, 10))\n",
    "map"
   ]
  },
  {
   "cell_type": "code",
   "execution_count": null,
   "id": "technical-excerpt",
   "metadata": {
    "scrolled": false
   },
   "outputs": [],
   "source": [
    "#\n",
    "# apparently gee can't make up its own mind at +/- 180 longitude and +/- 90 latitude\n",
    "#\n",
    "import math\n",
    "map = geemap.Map(height='600px')\n",
    "eeimage = ee.Image.pixelLonLat()\n",
    "print(geeutils.szprojectioninfo(eeimage))\n",
    "map.centerObject(ee.Geometry.Point(0, 0), 0)\n",
    "map.addLayer(eeimage.select('longitude'), {'min':-180, 'max':180})\n",
    "map.addLayer(eeimage.select('latitude'),  {'min':-90,  'max':90})\n",
    "for pointlon in range (-180,181,60):\n",
    "    for pointlat in range (-90,91,30):\n",
    "        eepoint  =  ee.Geometry.Point(pointlon, pointlat)\n",
    "        eeregion = geeutils.squarerasterboundsroi(eepoint, 0.6, eeimage)\n",
    "        eeregion = geeutils.squareareaboundsroi(eepoint, 111320)\n",
    "        print(math.sqrt(eeregion.area(maxError=0.001).getInfo()), geeutils.szgeometryinfo(eeregion.centroid(maxError=0.001)) )\n",
    "        print(geeutils.szestimatevaluesinfo(eeimage.clip(eeregion)))\n",
    "        map.addLayer(geeutils.outlinegeometryimage(eeregion, 100000, 10))\n",
    "map"
   ]
  },
  {
   "cell_type": "markdown",
   "id": "painful-ability",
   "metadata": {},
   "source": [
    "***\n",
    "__random points__ ignoring sea\n",
    "***"
   ]
  },
  {
   "cell_type": "code",
   "execution_count": null,
   "id": "optional-lawrence",
   "metadata": {},
   "outputs": [],
   "source": [
    "import random\n",
    "\n",
    "#\n",
    "# using discrete_classification band of most recent landcover image\n",
    "#\n",
    "eeclassification = (ee.ImageCollection('COPERNICUS/Landcover/100m/Proba-V-C3/Global')\n",
    "                   .sort('system:time_start', False)  # reverse sort\n",
    "                   .first()                           # most recent\n",
    "                   .select('discrete_classification') # Land cover classification 0..200\n",
    "                   .unmask(0, sameFootprint=False))   # 0 = Unknown; in gee used as mask\n",
    "\n",
    "#\n",
    "# assume we skip regions with mainly\n",
    "#     0 (Unknown. No or not enough satellite data available.)\n",
    "#    70 (Snow and ice. Lands under snow or ice cover throughout the year.)\n",
    "#    80 (Permanent water bodies. Lakes, reservoirs, and rivers. Can be either fresh or salt-water bodies.)\n",
    "#   200 (Oceans, seas. Can be either fresh or salt-water bodies.)\n",
    "#\n",
    "lstskiplanduseclasses = [0, 70, 80, 200]\n",
    "\n",
    "\n",
    "lstfeatures = []\n",
    "cPatch = 0\n",
    "iPatch = 0\n",
    "while True:\n",
    "    iPatch += 1\n",
    "    #\n",
    "    # assume global samples\n",
    "    #\n",
    "    longitude = (1 - random.random())*360. - 180.\n",
    "    latitude  = random.uniform(-80,80)\n",
    "    eepoint   = ee.Geometry.Point(longitude, latitude)\n",
    "    #\n",
    "    # assume landuse determined by about 1km x 1 km environment\n",
    "    #\n",
    "    landuseclass = eeclassification.reduceRegion(\n",
    "        ee.Reducer.mode().unweighted(), eepoint.buffer(500, maxError=0.001)).values().get(0).getInfo()\n",
    "    #\n",
    "    # skip specified land use classes\n",
    "    #\n",
    "    if landuseclass in lstskiplanduseclasses:\n",
    "        print(f\"({iPatch:5d}) - skipping patch at ({longitude:013.8f}, {latitude:013.8f}): class({landuseclass:3d}) \")\n",
    "        continue\n",
    "\n",
    "    cPatch += 1\n",
    "    print(f\"({iPatch:5d}) - patch at ({longitude:013.8f}, {latitude:013.8f}): class({landuseclass:3d}) patches:{cPatch:5d}\")\n",
    "\n",
    "    eeregion = geeutils.squarerasterboundsroi(geeutils.pixelinterspoint(eepoint, eeclassification), 1, eeclassification)\n",
    "    #print(geeutils.szgeometryinfo(eeregion))\n",
    "    \n",
    "    eefeature = ee.Feature(eeregion, {'lon': longitude, 'lat': latitude, 'class': landuseclass})\n",
    "    lstfeatures.append(eefeature)\n",
    "\n",
    "    if cPatch > 1000:\n",
    "        break\n",
    "\n",
    "eeFeatureCollection = ee.FeatureCollection(lstfeatures)\n",
    "geemap.ee_export_vector(eeFeatureCollection, r\"C:\\tmp\\tst.shp\")\n"
   ]
  },
  {
   "cell_type": "code",
   "execution_count": null,
   "id": "dutch-viking",
   "metadata": {},
   "outputs": [],
   "source": []
  },
  {
   "cell_type": "code",
   "execution_count": null,
   "id": "advance-salvation",
   "metadata": {},
   "outputs": [],
   "source": []
  }
 ],
 "metadata": {
  "kernelspec": {
   "display_name": "Python 3",
   "language": "python",
   "name": "python3"
  },
  "language_info": {
   "codemirror_mode": {
    "name": "ipython",
    "version": 3
   },
   "file_extension": ".py",
   "mimetype": "text/x-python",
   "name": "python",
   "nbconvert_exporter": "python",
   "pygments_lexer": "ipython3",
   "version": "3.8.5"
  }
 },
 "nbformat": 4,
 "nbformat_minor": 5
}
