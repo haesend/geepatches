{
 "cells": [
  {
   "cell_type": "code",
   "execution_count": null,
   "id": "healthy-intent",
   "metadata": {},
   "outputs": [],
   "source": [
    "import geemap\n",
    "import ee\n",
    "if not ee.data._credentials: ee.Initialize()\n",
    "\n",
    "import sys\n",
    "sys.path.append('../src/geepatches')\n",
    "import geeutils\n",
    "\n"
   ]
  },
  {
   "cell_type": "markdown",
   "id": "absolute-reynolds",
   "metadata": {},
   "source": [
    "__squareareaboundsroi(eepoint, metersradius, eeprojection=None)__"
   ]
  },
  {
   "cell_type": "code",
   "execution_count": null,
   "id": "mechanical-welcome",
   "metadata": {},
   "outputs": [],
   "source": [
    "    \n",
    "eepoint = geeutils.tapspoint\n",
    "\n",
    "rois = [geeutils.squareareaboundsroi(eepoint, metersradius) for metersradius in [100,200,300,1000]]\n",
    "\n",
    "map = geemap.Map(height='300px')\n",
    "map.centerObject(eepoint, 13)\n",
    "for roi in rois:\n",
    "    print(geeutils.szgeometryinfo(roi))\n",
    "    map.addLayer(geeutils.outlinegeometryimage(roi),        {'palette':'#ff0000'})\n",
    "map.addLayer(geeutils.outlinegeometryimage(eepoint, 10, 2), {'palette':'#000000'})\n",
    "map\n"
   ]
  },
  {
   "cell_type": "markdown",
   "id": "incredible-eugene",
   "metadata": {},
   "source": [
    "__squareareaboundsroi(eepoint, metersradius, eeprojection)__\n",
    "\n",
    "'square' is relative; depends on projection"
   ]
  },
  {
   "cell_type": "code",
   "execution_count": null,
   "id": "motivated-harrison",
   "metadata": {},
   "outputs": [],
   "source": [
    "eepoint      = geeutils.hogerielenpoint\n",
    "eedate       = geeutils.fleecycloudsday\n",
    "metersradius = 1000\n",
    "\n",
    "pv333image   = geeutils.someImageNear(geeutils.pv333rgbImageCollection, eedate, eepoint)\n",
    "s2rgbimage   = geeutils.someImageNear(geeutils.s2rgbImageCollection,    eedate, eepoint)\n",
    "s1rgbimage   = geeutils.someImageNear(geeutils.s1rbgImageCollection,    eedate, eepoint)\n",
    "\n",
    "projs = [\n",
    "    pv333image.select(0).projection(), \n",
    "    s2rgbimage.select(0).projection(), \n",
    "    s1rgbimage.select(0).projection(), \n",
    "    s1rgbimage.select('angle').projection()]\n",
    "\n",
    "rois = [geeutils.squareareaboundsroi(eepoint, metersradius, proj) for proj in projs]\n",
    "\n",
    "map = geemap.Map(height='300px')\n",
    "map.centerObject(eepoint, 13)\n",
    "for roi in rois:\n",
    "    print(geeutils.szgeometryinfo(roi))\n",
    "    map.addLayer(geeutils.outlinegeometryimage(roi),        {'palette':'#ff0000'})\n",
    "map.addLayer(geeutils.outlinegeometryimage(eepoint, 10, 2), {'palette':'#000000'}, 'eepoint')\n",
    "map\n"
   ]
  },
  {
   "cell_type": "code",
   "execution_count": null,
   "id": "olympic-morrison",
   "metadata": {},
   "outputs": [],
   "source": []
  }
 ],
 "metadata": {
  "kernelspec": {
   "display_name": "Python 3",
   "language": "python",
   "name": "python3"
  },
  "language_info": {
   "codemirror_mode": {
    "name": "ipython",
    "version": 3
   },
   "file_extension": ".py",
   "mimetype": "text/x-python",
   "name": "python",
   "nbconvert_exporter": "python",
   "pygments_lexer": "ipython3",
   "version": "3.8.5"
  }
 },
 "nbformat": 4,
 "nbformat_minor": 5
}
