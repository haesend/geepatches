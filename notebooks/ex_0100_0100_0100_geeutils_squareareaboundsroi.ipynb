{
 "cells": [
  {
   "cell_type": "markdown",
   "id": "naked-simple",
   "metadata": {},
   "source": [
    "***\n",
    "some experiments with roi geometries: geeutils.squareareaboundsroi\n",
    "***"
   ]
  },
  {
   "cell_type": "code",
   "execution_count": null,
   "id": "healthy-intent",
   "metadata": {},
   "outputs": [],
   "source": [
    "import geemap\n",
    "import ee\n",
    "if not ee.data._credentials: ee.Initialize()\n",
    "\n",
    "import sys\n",
    "sys.path.append('../src/geepatches')\n",
    "import geeutils\n",
    "\n"
   ]
  },
  {
   "cell_type": "markdown",
   "id": "absolute-reynolds",
   "metadata": {},
   "source": [
    "***\n",
    "__squareareaboundsroi(eepoint, metersradius, eeprojection=None)__\n",
    "- aims to create square roi\n",
    "- 'square' in the default-or-specified crs\n",
    "- radius (half-width) specified in meters\n",
    "\n",
    "***"
   ]
  },
  {
   "cell_type": "code",
   "execution_count": null,
   "id": "mechanical-welcome",
   "metadata": {},
   "outputs": [],
   "source": [
    "  \n",
    "#\n",
    "# ee.Geometry.Point(coords, proj) : allows creating EPSG:4326 points, e.g. ee.Geometry.Point(lng, lat)\n",
    "# tapspoint = ee.Geometry.Point(5.07924, 51.21848)\n",
    "#\n",
    "eepoint = geeutils.tapspoint\n",
    "print(geeutils.szgeometryinfo(eepoint))\n",
    "#\n",
    "# geeutils.squareareaboundsroi\n",
    "#\n",
    "rois = [geeutils.squareareaboundsroi(eepoint, metersradius) for metersradius in [100,200,300,1000]]\n",
    "\n",
    "map = geemap.Map(height='300px')\n",
    "map.centerObject(eepoint, 13)\n",
    "for roi in rois:\n",
    "    print(geeutils.szgeometryinfo(roi))\n",
    "    map.addLayer(geeutils.outlinegeometryimage(roi),        {'palette':'#ff0000'})\n",
    "map.addLayer(geeutils.outlinegeometryimage(eepoint, 10, 2), {'palette':'#000000'})\n",
    "map\n"
   ]
  },
  {
   "cell_type": "markdown",
   "id": "incredible-eugene",
   "metadata": {},
   "source": [
    "***\n",
    "__squareareaboundsroi(eepoint, metersradius, eeprojection)__\n",
    "\n",
    "- 'square' is relative; depends on projection\n",
    "- comparing squareareaboundsroi with native projections from different collections\n",
    "- note: different bands from single image can have different projections: e.g. S1 VV vs S1 angle\n",
    "***"
   ]
  },
  {
   "cell_type": "code",
   "execution_count": null,
   "id": "motivated-harrison",
   "metadata": {},
   "outputs": [],
   "source": [
    "eepoint      = geeutils.tapspoint\n",
    "eedate       = geeutils.fleecycloudsday\n",
    "metersradius = 500\n",
    "\n",
    "pv333image   = geeutils.someImageNear(geeutils.pv333rgbImageCollection, eedate, eepoint) # ['RED', 'NIR', 'BLUE']\n",
    "s2rgbimage   = geeutils.someImageNear(geeutils.s2rgbImageCollection,    eedate, eepoint) # ['B4', 'B3', 'B2']\n",
    "s1rgbimage   = geeutils.someImageNear(geeutils.s1rbgImageCollection,    eedate, eepoint) # ['VV', 'VH', 'angle']\n",
    "\n",
    "projs = [\n",
    "    [pv333image.select(0).projection(),       \"pv333 RED\", \"#000000\"], \n",
    "    [s2rgbimage.select(0).projection(),       \"s2 B4\",     \"#0000ff\"], \n",
    "    [s1rgbimage.select(0).projection(),       \"s1 VV\",     \"#00ff00\"], \n",
    "    [s1rgbimage.select('angle').projection(), \"s1 angle\",  \"#ff0000\"]]\n",
    "\n",
    "map = geemap.Map(height='600px')\n",
    "map.centerObject(eepoint, 15)\n",
    "for proj in projs:\n",
    "    roi = geeutils.squareareaboundsroi(eepoint, metersradius, proj[0], verbose=True)\n",
    "    print(geeutils.szgeometryinfo(roi))\n",
    "    map.addLayer(geeutils.outlinegeometryimage(roi, 0,  5), {'palette': proj[2]}, proj[1])\n",
    "map.addLayer(geeutils.outlinegeometryimage(eepoint, 50, 5), {'palette':'#ff00ff'}, 'eepoint')\n",
    "map\n"
   ]
  },
  {
   "cell_type": "code",
   "execution_count": null,
   "id": "olympic-morrison",
   "metadata": {},
   "outputs": [],
   "source": []
  }
 ],
 "metadata": {
  "kernelspec": {
   "display_name": "Python 3",
   "language": "python",
   "name": "python3"
  },
  "language_info": {
   "codemirror_mode": {
    "name": "ipython",
    "version": 3
   },
   "file_extension": ".py",
   "mimetype": "text/x-python",
   "name": "python",
   "nbconvert_exporter": "python",
   "pygments_lexer": "ipython3",
   "version": "3.8.5"
  }
 },
 "nbformat": 4,
 "nbformat_minor": 5
}
