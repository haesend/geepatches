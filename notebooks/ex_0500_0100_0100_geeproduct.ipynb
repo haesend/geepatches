{
 "cells": [
  {
   "cell_type": "markdown",
   "id": "smooth-budapest",
   "metadata": {},
   "source": [
    "***\n",
    "__GEECol classes__\n",
    "\n",
    "The 'GEECol' daughter classes represent specific ('product') collections of images. The classes contain the information and algorithms needed to retrieve data from gee and calculate, convert... this data into the desired products for the specified region (roi). e.g. the GEECol_s2ndvi class collects the Sentinel 2 NIR and RED data from gee and applies a normalized difference algorithm on this data.\n",
    "\n",
    "__GEECol.getcollection(...) method__\n",
    "\n",
    "Collects an ee.ImageCollection, representing a time series of images, over a specified interval, over a specified roi.\n",
    "***"
   ]
  },
  {
   "cell_type": "code",
   "execution_count": null,
   "id": "abandoned-latter",
   "metadata": {},
   "outputs": [],
   "source": [
    "import geemap\n",
    "import ee\n",
    "if not ee.data._credentials: ee.Initialize()\n",
    "\n",
    "import sys\n",
    "sys.path.append('../src/geepatches')\n",
    "import geeutils\n",
    "import geeproduct\n"
   ]
  },
  {
   "cell_type": "markdown",
   "id": "gentle-layer",
   "metadata": {},
   "source": [
    "__Proba V 333m__"
   ]
  },
  {
   "cell_type": "code",
   "execution_count": null,
   "id": "varying-destruction",
   "metadata": {},
   "outputs": [],
   "source": [
    "#\n",
    "# GEECol product\n",
    "#\n",
    "geecol        = geeproduct.GEECol_pv333ndvi()\n",
    "#geecol        = geeproduct.GEECol_pv333ndvi_he() # historical vito ndvi scaling [-0.08,0.92] -> [0,250] with 255 as no-data\n",
    "\n",
    "#\n",
    "# GEECol.getcollection parameters\n",
    "#\n",
    "eepoint       = geeutils.tapspoint\n",
    "eedatefrom    = geeutils.fleecycloudsday\n",
    "eedatetill    = geeutils.fleecycloudsday.advance(1, 'week')\n",
    "roidiameter   = 3\n",
    "verbose       = False\n",
    "#\n",
    "# get collection as-is (not using refcollection and refroipixelsdiameter)\n",
    "#\n",
    "geecollection = geecol.getcollection(eedatefrom, eedatetill, eepoint, roidiameter, verbose=verbose)\n",
    "szdescription = geecollection.get('gee_description').getInfo()\n",
    "eerefroi      = ee.Geometry(geecollection.get('gee_refroi'))\n",
    "eecenterpoint = ee.Geometry(geecollection.get('gee_centerpoint'))\n",
    "eefirstimage  = geecollection.first()\n",
    "szdate        = eefirstimage.get('gee_date').getInfo()\n",
    "#\n",
    "# estimate range in roi environment \n",
    "#\n",
    "xenv = geeutils.squarerasterboundsroi(eecenterpoint, roidiameter*5, eefirstimage)\n",
    "xmin = eefirstimage.clip(xenv).reduceRegion(ee.Reducer.min()).values().get(0).getInfo()\n",
    "xmax = eefirstimage.clip(xenv).reduceRegion(ee.Reducer.max()).values().get(0).getInfo()\n",
    "print(szdescription, szdate, \"min:\", xmin, \"max:\", xmax)\n",
    "#\n",
    "# show it\n",
    "#\n",
    "map = geemap.Map(height='400px')\n",
    "map.centerObject(xenv, 15)\n",
    "map.addLayer(eefirstimage, {'min':xmin, 'max':xmax, 'opacity':0.9}, szdescription)\n",
    "map.addLayer(geeutils.outlinegeometryimage(eerefroi, 0, 2),       {'palette':'#ff0000'}, 'eerefroi_' + str(roidiameter))\n",
    "map.addLayer(geeutils.outlinegeometryimage(eecenterpoint, 20, 3), {'palette':'#ff0000'}, 'eeroicenterpoint_' + str(roidiameter))\n",
    "map.addLayer(geeutils.outlinegeometryimage(eepoint,       20, 3), {'palette':'#00ff00'}, 'eepoint')\n",
    "map\n"
   ]
  },
  {
   "cell_type": "markdown",
   "id": "exciting-launch",
   "metadata": {},
   "source": [
    "__Sentinel 1 VV/VH bands - ASCENDING/DESCENDING - sigma0/gamma0__"
   ]
  },
  {
   "cell_type": "code",
   "execution_count": null,
   "id": "popular-lounge",
   "metadata": {
    "scrolled": false
   },
   "outputs": [],
   "source": [
    "#geecol        = geeproduct.GEECol_s1sigma0('VV', 'DESCENDING')\n",
    "#geecol        = geeproduct.GEECol_s1sigma0('VH', 'DESCENDING')\n",
    "#geecol        = geeproduct.GEECol_s1sigma0('VV', 'ASCENDING')\n",
    "#geecol        = geeproduct.GEECol_s1sigma0('VH', 'ASCENDING')\n",
    "#geecol        = geeproduct.GEECol_s1gamma0('VV', 'DESCENDING')\n",
    "#geecol        = geeproduct.GEECol_s1gamma0('VH', 'DESCENDING')\n",
    "#geecol        = geeproduct.GEECol_s1gamma0('VV', 'ASCENDING')\n",
    "geecol        = geeproduct.GEECol_s1gamma0('VH', 'ASCENDING')\n",
    "\n",
    "eepoint       = geeutils.tapspoint\n",
    "eedatefrom    = geeutils.fleecycloudsday\n",
    "eedatetill    = geeutils.fleecycloudsday.advance(1, 'week')\n",
    "roidiameter   = 10\n",
    "verbose       = False\n",
    "#\n",
    "#\n",
    "#\n",
    "geecollection = geecol.getcollection(eedatefrom, eedatetill, eepoint, roidiameter, verbose=verbose)\n",
    "szdescription = geecollection.get('gee_description').getInfo()\n",
    "eerefroi      = ee.Geometry(geecollection.get('gee_refroi'))\n",
    "eecenterpoint = ee.Geometry(geecollection.get('gee_centerpoint'))\n",
    "eefirstimage  = geecollection.first()\n",
    "szdate        = eefirstimage.get('gee_date').getInfo()\n",
    "\n",
    "xenv = geeutils.squarerasterboundsroi(eecenterpoint, roidiameter*5, eefirstimage)\n",
    "xmin = eefirstimage.clip(xenv).reduceRegion(ee.Reducer.min()).values().get(0).getInfo()\n",
    "xmax = eefirstimage.clip(xenv).reduceRegion(ee.Reducer.max()).values().get(0).getInfo()\n",
    "\n",
    "print(szdescription, szdate, \"min:\", xmin, \"max:\", xmax)\n",
    "\n",
    "map = geemap.Map(height='400px')\n",
    "map.centerObject(xenv, 24)\n",
    "map.addLayer(eefirstimage, {'min':xmin, 'max':xmax, 'opacity':0.9}, szdescription)\n",
    "map.addLayer(geeutils.outlinegeometryimage(eerefroi, 0, 1),      {'palette':'#ff0000'}, 'eerefroi_' + str(roidiameter))\n",
    "map.addLayer(geeutils.outlinegeometryimage(eecenterpoint, 5, 1), {'palette':'#ff0000'}, 'eeroicenterpoint_' + str(roidiameter))\n",
    "map.addLayer(geeutils.outlinegeometryimage(eepoint,       5, 1), {'palette':'#00ff00'}, 'eepoint')\n",
    "map"
   ]
  },
  {
   "cell_type": "markdown",
   "id": "jewish-delight",
   "metadata": {},
   "source": [
    "__Sentinel 1 VV/VH bands - RVI: 4VH/(VV+VH)__ (VV, VH in natural units - using the \"S1_GRD_FLOAT\" collection)"
   ]
  },
  {
   "cell_type": "code",
   "execution_count": null,
   "id": "primary-sunrise",
   "metadata": {},
   "outputs": [],
   "source": [
    "geecol        = geeproduct.GEECol_s1rvi('DESCENDING')\n",
    "#geecol        = geeproduct.GEECol_s1rvi('ASCENDING')\n",
    "\n",
    "eepoint       = geeutils.tapspoint\n",
    "eedatefrom    = geeutils.fleecycloudsday\n",
    "eedatetill    = geeutils.fleecycloudsday.advance(1, 'week')\n",
    "roidiameter   = 9\n",
    "verbose       = False\n",
    "#\n",
    "#\n",
    "#\n",
    "geecollection = geecol.getcollection(eedatefrom, eedatetill, eepoint, roidiameter, verbose=verbose)\n",
    "szdescription = geecollection.get('gee_description').getInfo()\n",
    "eerefroi      = ee.Geometry(geecollection.get('gee_refroi'))\n",
    "eecenterpoint = ee.Geometry(geecollection.get('gee_centerpoint'))\n",
    "eefirstimage  = geecollection.first()\n",
    "szdate        = eefirstimage.get('gee_date').getInfo()\n",
    "\n",
    "xenv = geeutils.squarerasterboundsroi(eecenterpoint, roidiameter*5, eefirstimage)\n",
    "xmin = eefirstimage.clip(xenv).reduceRegion(ee.Reducer.min()).values().get(0).getInfo()\n",
    "xmax = eefirstimage.clip(xenv).reduceRegion(ee.Reducer.max()).values().get(0).getInfo()\n",
    "\n",
    "print(szdescription, szdate, \"min:\", xmin, \"max:\", xmax)\n",
    "\n",
    "map = geemap.Map(height='400px')\n",
    "map.centerObject(xenv, 24)\n",
    "map.addLayer(eefirstimage, {'min':xmin, 'max':xmax, 'opacity':0.9}, szdescription)\n",
    "map.addLayer(geeutils.outlinegeometryimage(eerefroi, 0, 1),      {'palette':'#ff0000'}, 'eerefroi_' + str(roidiameter))\n",
    "map.addLayer(geeutils.outlinegeometryimage(eecenterpoint, 5, 1), {'palette':'#ff0000'}, 'eeroicenterpoint_' + str(roidiameter))\n",
    "map.addLayer(geeutils.outlinegeometryimage(eepoint,       5, 1), {'palette':'#00ff00'}, 'eepoint')\n",
    "map"
   ]
  },
  {
   "cell_type": "markdown",
   "id": "novel-amount",
   "metadata": {},
   "source": [
    "__Sentinel 2 radio bands: ndvi__"
   ]
  },
  {
   "cell_type": "code",
   "execution_count": null,
   "id": "muslim-monte",
   "metadata": {
    "scrolled": false
   },
   "outputs": [],
   "source": [
    "geecol        = geeproduct.GEECol_s2ndvi()\n",
    "#geecol        = geeproduct.GEECol_s2ndvi_he() # historical vito ndvi scaling [-0.08,0.92] -> [0,250] with 255 as no-data\n",
    "\n",
    "eepoint       = geeutils.tapspoint\n",
    "eedatefrom    = geeutils.fleecycloudsday\n",
    "eedatetill    = geeutils.fleecycloudsday.advance(1, 'week')\n",
    "roidiameter   = 9\n",
    "verbose       = False\n",
    "#\n",
    "#\n",
    "#\n",
    "geecollection = geecol.getcollection(eedatefrom, eedatetill, eepoint, roidiameter, verbose=verbose)\n",
    "szdescription = geecollection.get('gee_description').getInfo()\n",
    "eerefroi      = ee.Geometry(geecollection.get('gee_refroi'))\n",
    "eecenterpoint = ee.Geometry(geecollection.get('gee_centerpoint'))\n",
    "eefirstimage  = geecollection.first()\n",
    "szdate        = eefirstimage.get('gee_date').getInfo()\n",
    "\n",
    "xenv = geeutils.squarerasterboundsroi(eecenterpoint, roidiameter*5, eefirstimage)\n",
    "xmin = eefirstimage.clip(xenv).reduceRegion(ee.Reducer.min()).values().get(0).getInfo()\n",
    "xmax = eefirstimage.clip(xenv).reduceRegion(ee.Reducer.max()).values().get(0).getInfo()\n",
    "\n",
    "print(szdescription, szdate, \"min:\", xmin, \"max:\", xmax)\n",
    "\n",
    "map = geemap.Map(height='400px')\n",
    "map.centerObject(xenv, 24)\n",
    "map.addLayer(eefirstimage, {'min':xmin, 'max':xmax, 'opacity':0.9}, szdescription)\n",
    "map.addLayer(geeutils.outlinegeometryimage(eerefroi, 0, 1),      {'palette':'#ff0000'}, 'eerefroi_' + str(roidiameter))\n",
    "map.addLayer(geeutils.outlinegeometryimage(eecenterpoint, 5, 1), {'palette':'#ff0000'}, 'eeroicenterpoint_' + str(roidiameter))\n",
    "map.addLayer(geeutils.outlinegeometryimage(eepoint,       5, 1), {'palette':'#00ff00'}, 'eepoint')\n",
    "map"
   ]
  },
  {
   "cell_type": "markdown",
   "id": "hundred-device",
   "metadata": {},
   "source": [
    "__Sentinel 2 radio bands: fapar__"
   ]
  },
  {
   "cell_type": "code",
   "execution_count": null,
   "id": "approved-pavilion",
   "metadata": {},
   "outputs": [],
   "source": [
    "geecol        = geeproduct.GEECol_s2fapar()\n",
    "#geecol        = geeproduct.GEECol_s2fapar_he() # historical vito ndvi scaling [0,1] -> [0,200] with 255 as no-data\n",
    "\n",
    "eepoint       = geeutils.tapspoint\n",
    "eedatefrom    = geeutils.fleecycloudsday\n",
    "eedatetill    = geeutils.fleecycloudsday.advance(1, 'week')\n",
    "roidiameter   = 12\n",
    "verbose       = False\n",
    "#\n",
    "#\n",
    "#\n",
    "geecollection = geecol.getcollection(eedatefrom, eedatetill, eepoint, roidiameter, verbose=verbose)\n",
    "szdescription = geecollection.get('gee_description').getInfo()\n",
    "eerefroi      = ee.Geometry(geecollection.get('gee_refroi'))\n",
    "eecenterpoint = ee.Geometry(geecollection.get('gee_centerpoint'))\n",
    "eefirstimage  = geecollection.first()\n",
    "szdate        = eefirstimage.get('gee_date').getInfo()\n",
    "\n",
    "xenv = geeutils.squarerasterboundsroi(eecenterpoint, roidiameter*5, eefirstimage)\n",
    "xmin = eefirstimage.clip(xenv).reduceRegion(ee.Reducer.min()).values().get(0).getInfo()\n",
    "xmax = eefirstimage.clip(xenv).reduceRegion(ee.Reducer.max()).values().get(0).getInfo()\n",
    "\n",
    "print(szdescription, szdate, \"min:\", xmin, \"max:\", xmax)\n",
    "\n",
    "map = geemap.Map(height='400px')\n",
    "map.centerObject(xenv, 24)\n",
    "map.addLayer(eefirstimage, {'min':xmin, 'max':xmax, 'opacity':0.9}, szdescription)\n",
    "map.addLayer(geeutils.outlinegeometryimage(eerefroi, 0, 1),      {'palette':'#ff0000'}, 'eerefroi_' + str(roidiameter))\n",
    "map.addLayer(geeutils.outlinegeometryimage(eecenterpoint, 5, 1), {'palette':'#ff0000'}, 'eeroicenterpoint_' + str(roidiameter))\n",
    "map.addLayer(geeutils.outlinegeometryimage(eepoint,       5, 1), {'palette':'#00ff00'}, 'eepoint')\n",
    "map"
   ]
  },
  {
   "cell_type": "markdown",
   "id": "french-problem",
   "metadata": {},
   "source": [
    "__Sentinel 2 SCL band__"
   ]
  },
  {
   "cell_type": "code",
   "execution_count": null,
   "id": "champion-glucose",
   "metadata": {
    "scrolled": false
   },
   "outputs": [],
   "source": [
    "geecol        = geeproduct.GEECol_s2scl()\n",
    "\n",
    "eepoint       = geeutils.bobspoint\n",
    "eedatefrom    = geeutils.fleecycloudsday\n",
    "eedatetill    = geeutils.fleecycloudsday.advance(1, 'week')\n",
    "roidiameter   = 12\n",
    "verbose       = False\n",
    "#\n",
    "#\n",
    "#\n",
    "geecollection = geecol.getcollection(eedatefrom, eedatetill, eepoint, roidiameter, verbose=verbose)\n",
    "szdescription = geecollection.get('gee_description').getInfo()\n",
    "eerefroi      = ee.Geometry(geecollection.get('gee_refroi'))\n",
    "eecenterpoint = ee.Geometry(geecollection.get('gee_centerpoint'))\n",
    "eefirstimage  = geecollection.first()\n",
    "szdate        = eefirstimage.get('gee_date').getInfo()\n",
    "\n",
    "xenv = geeutils.squarerasterboundsroi(eecenterpoint, roidiameter*5, eefirstimage)\n",
    "xmin = eefirstimage.clip(xenv).reduceRegion(ee.Reducer.min()).values().get(0).getInfo()\n",
    "xmax = eefirstimage.clip(xenv).reduceRegion(ee.Reducer.max()).values().get(0).getInfo()\n",
    "\n",
    "print(szdescription, szdate, \"min:\", xmin, \"max:\", xmax)\n",
    "\n",
    "map = geemap.Map(height='400px')\n",
    "map.centerObject(xenv, 16)\n",
    "map.addLayer(eefirstimage, geeutils.s2sclvisParams, szdescription)\n",
    "map.addLayer(geeutils.outlinegeometryimage(eerefroi, 0, 1),       {'palette':'#ff0000'}, 'eerefroi_' + str(roidiameter))\n",
    "map.addLayer(geeutils.outlinegeometryimage(eecenterpoint, 10, 2), {'palette':'#ff0000'}, 'eeroicenterpoint_' + str(roidiameter))\n",
    "map.addLayer(geeutils.outlinegeometryimage(eepoint,       10, 2), {'palette':'#0000ff'}, 'eepoint')\n",
    "map\n"
   ]
  },
  {
   "cell_type": "markdown",
   "id": "baking-study",
   "metadata": {},
   "source": [
    "__Sentinel 2 SCL ConvMask band__"
   ]
  },
  {
   "cell_type": "code",
   "execution_count": null,
   "id": "terminal-michael",
   "metadata": {},
   "outputs": [],
   "source": [
    "geecol        = geeproduct.GEECol_s2sclconvmask()\n",
    "\n",
    "eepoint       = geeutils.bobspoint\n",
    "eedatefrom    = geeutils.fleecycloudsday\n",
    "eedatetill    = geeutils.fleecycloudsday.advance(1, 'week')\n",
    "roidiameter   = 64\n",
    "verbose       = False\n",
    "#\n",
    "#\n",
    "#\n",
    "geecollection = geecol.getcollection(eedatefrom, eedatetill, eepoint, roidiameter, verbose=verbose)\n",
    "szdescription = geecollection.get('gee_description').getInfo()\n",
    "eerefroi      = ee.Geometry(geecollection.get('gee_refroi'))\n",
    "eecenterpoint = ee.Geometry(geecollection.get('gee_centerpoint'))\n",
    "eefirstimage  = geecollection.first()\n",
    "szdate        = eefirstimage.get('gee_date').getInfo()\n",
    "\n",
    "\n",
    "print(szdescription, szdate, \"min:\", xmin, \"max:\", xmax)\n",
    "\n",
    "#\n",
    "# make clear sky transparant\n",
    "#\n",
    "eefirstimage = eefirstimage.updateMask(eefirstimage.eq(1))\n",
    "#\n",
    "# use experimental s2rgb product (using 'TCI' bands) as background\n",
    "#\n",
    "eedate       = ee.Date(szdate)\n",
    "eergbimage   = geeproduct.GEECol_s2rgb().collect(eecenterpoint, eedate, eedate.advance(1, 'day')).first()\n",
    "\n",
    "map = geemap.Map(height='400px')\n",
    "map.centerObject(eecenterpoint, 13)\n",
    "map.addLayer(eergbimage, {'min':1,  'max':255}, 'rgb')\n",
    "map.addLayer(eefirstimage, {'min':0, 'max':1, 'opacity':0.8}, szdescription)\n",
    "map.addLayer(geeutils.outlinegeometryimage(eerefroi, 0, 1),       {'palette':'#ff0000'}, 'eerefroi_' + str(roidiameter))\n",
    "map.addLayer(geeutils.outlinegeometryimage(eecenterpoint, 10, 2), {'palette':'#ff0000'}, 'eeroicenterpoint_' + str(roidiameter))\n",
    "map.addLayer(geeutils.outlinegeometryimage(eepoint,       10, 2), {'palette':'#0000ff'}, 'eepoint')\n",
    "map"
   ]
  },
  {
   "cell_type": "code",
   "execution_count": null,
   "id": "pacific-mapping",
   "metadata": {},
   "outputs": [],
   "source": []
  }
 ],
 "metadata": {
  "kernelspec": {
   "display_name": "Python 3",
   "language": "python",
   "name": "python3"
  },
  "language_info": {
   "codemirror_mode": {
    "name": "ipython",
    "version": 3
   },
   "file_extension": ".py",
   "mimetype": "text/x-python",
   "name": "python",
   "nbconvert_exporter": "python",
   "pygments_lexer": "ipython3",
   "version": "3.8.5"
  }
 },
 "nbformat": 4,
 "nbformat_minor": 5
}
