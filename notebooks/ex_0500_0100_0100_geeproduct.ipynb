{
 "cells": [
  {
   "cell_type": "markdown",
   "id": "smooth-budapest",
   "metadata": {},
   "source": [
    "__GEECol classes__\n",
    "\n",
    "simple use (without specifying reference)"
   ]
  },
  {
   "cell_type": "code",
   "execution_count": null,
   "id": "abandoned-latter",
   "metadata": {},
   "outputs": [],
   "source": [
    "import geemap\n",
    "import ee\n",
    "if not ee.data._credentials: ee.Initialize()\n",
    "\n",
    "import sys\n",
    "sys.path.append('../src/geepatches')\n",
    "import geeutils\n",
    "import geeproduct\n"
   ]
  },
  {
   "cell_type": "markdown",
   "id": "gentle-layer",
   "metadata": {},
   "source": [
    "__Proba V 333m__"
   ]
  },
  {
   "cell_type": "code",
   "execution_count": null,
   "id": "cognitive-planning",
   "metadata": {
    "scrolled": false
   },
   "outputs": [],
   "source": [
    "eepoint           = geeutils.tapspoint\n",
    "eedatefrom        = geeutils.fleecycloudsday\n",
    "eedatetill        = geeutils.fleecycloudsday.advance(1, 'week')\n",
    "verbose           = False\n",
    "\n",
    "geecollection     = geeproduct.GEECol_pv333ndvi()\n",
    "eesrcimage        = geecollection.collect(eepoint, eedatefrom, eedatetill, verbose=verbose).first()\n",
    "\n",
    "roisizes = [ 1,2,3,4 ]\n",
    "\n",
    "map = geemap.Map(height='600px')\n",
    "map.centerObject(eepoint, 14)\n",
    "map.addLayer(eesrcimage, {'min':0, 'max':1}, 'eesrcimage')\n",
    "\n",
    "for roipixelsdiameter in roisizes:\n",
    "    geecollection.getcollection(\n",
    "        eedatefrom, eedatetill, eepoint, roipixelsdiameter, verbose=verbose)\n",
    "    eerefroi         = geecollection._eerefroi\n",
    "    eeroicenterpoint = geecollection._eeroicenterpoint\n",
    "    eedstimage       = geecollection._eenatimagecollection.first()\n",
    "    map.addLayer(eedstimage, {'min':0, 'max':1}, 'eetrgimage_' + str(roipixelsdiameter))\n",
    "    map.addLayer(geeutils.outlinegeometryimage(eerefroi, 0, 2),          {'palette':'#0000ff'}, 'eerefroi_' + str(roipixelsdiameter))\n",
    "    map.addLayer(geeutils.outlinegeometryimage(eeroicenterpoint, 10, 2), {'palette':'#00ff00'}, 'eeroicenterpoint_' + str(roipixelsdiameter))\n",
    "\n",
    "    map.addLayer(geeutils.outlinegeometryimage(eepoint,          10, 2), {'palette':'#ff0000'}, 'eepoint')\n",
    "map\n"
   ]
  },
  {
   "cell_type": "markdown",
   "id": "exciting-launch",
   "metadata": {},
   "source": [
    "__Sentinel 1 VV/VH bands - sigma0__"
   ]
  },
  {
   "cell_type": "code",
   "execution_count": null,
   "id": "popular-lounge",
   "metadata": {},
   "outputs": [],
   "source": [
    "eepoint           = geeutils.tapspoint\n",
    "eedatefrom        = geeutils.fleecycloudsday\n",
    "eedatetill        = geeutils.fleecycloudsday.advance(1, 'week')\n",
    "verbose           = False\n",
    "\n",
    "geecollection     = geeproduct.GEECol_s1sigma0('VV')\n",
    "eesrcimage        = geecollection.collect(eepoint, eedatefrom, eedatetill, verbose=verbose).first()\n",
    "\n",
    "print(geeutils.szestimatevaluesinfo(eesrcimage.clip(eepoint.buffer(1000))))\n",
    "\n",
    "roisizes = [ 1,2,3,4 ]\n",
    "\n",
    "map = geemap.Map(height='600px')\n",
    "map.centerObject(eepoint, 18)\n",
    "map.addLayer(eesrcimage, {'min':-30, 'max':1}, 'eesrcimage')\n",
    "\n",
    "for roipixelsdiameter in roisizes:\n",
    "    geecollection.getcollection(\n",
    "        eedatefrom, eedatetill, eepoint, roipixelsdiameter, verbose=verbose)\n",
    "    eerefroi         = geecollection._eerefroi\n",
    "    eeroicenterpoint = geecollection._eeroicenterpoint\n",
    "    eedstimage       = geecollection._eenatimagecollection.first()\n",
    "    map.addLayer(eedstimage, {'min':-30, 'max':1}, 'eetrgimage_' + str(roipixelsdiameter))\n",
    "    map.addLayer(geeutils.outlinegeometryimage(eerefroi, 0, 2),         {'palette':'#0000ff'}, 'eerefroi_' + str(roipixelsdiameter))\n",
    "    map.addLayer(geeutils.outlinegeometryimage(eeroicenterpoint, 1, 2), {'palette':'#00ff00'}, 'eeroicenterpoint_' + str(roipixelsdiameter))\n",
    "\n",
    "    map.addLayer(geeutils.outlinegeometryimage(eepoint,          1, 2), {'palette':'#ff0000'}, 'eepoint')\n",
    "map"
   ]
  },
  {
   "cell_type": "markdown",
   "id": "pressing-scotland",
   "metadata": {},
   "source": [
    "__Sentinel 1 VV/VH bands - gamma0__"
   ]
  },
  {
   "cell_type": "code",
   "execution_count": null,
   "id": "entire-lightning",
   "metadata": {},
   "outputs": [],
   "source": [
    "eepoint           = geeutils.tapspoint\n",
    "eedatefrom        = geeutils.fleecycloudsday\n",
    "eedatetill        = geeutils.fleecycloudsday.advance(1, 'week')\n",
    "verbose           = False\n",
    "\n",
    "geecollection     = geeproduct.GEECol_s1gamma0('VV')\n",
    "eesrcimage        = geecollection.collect(eepoint, eedatefrom, eedatetill, verbose=verbose).first()\n",
    "\n",
    "print(geeutils.szestimatevaluesinfo(eesrcimage.clip(eepoint.buffer(1000))))\n",
    "\n",
    "roisizes = [ 1,2,3,4 ]\n",
    "\n",
    "map = geemap.Map(height='600px')\n",
    "map.centerObject(eepoint, 18)\n",
    "map.addLayer(eesrcimage, {'min':-30, 'max':1}, 'eesrcimage')\n",
    "\n",
    "for roipixelsdiameter in roisizes:\n",
    "    geecollection.getcollection(\n",
    "        eedatefrom, eedatetill, eepoint, roipixelsdiameter, verbose=verbose)\n",
    "    eerefroi         = geecollection._eerefroi\n",
    "    eeroicenterpoint = geecollection._eeroicenterpoint\n",
    "    eedstimage       = geecollection._eenatimagecollection.first()\n",
    "    map.addLayer(eedstimage, {'min':-30, 'max':1}, 'eetrgimage_' + str(roipixelsdiameter))\n",
    "    map.addLayer(geeutils.outlinegeometryimage(eerefroi, 0, 2),         {'palette':'#0000ff'}, 'eerefroi_' + str(roipixelsdiameter))\n",
    "    map.addLayer(geeutils.outlinegeometryimage(eeroicenterpoint, 1, 2), {'palette':'#00ff00'}, 'eeroicenterpoint_' + str(roipixelsdiameter))\n",
    "\n",
    "    map.addLayer(geeutils.outlinegeometryimage(eepoint,          1, 2), {'palette':'#ff0000'}, 'eepoint')\n",
    "map"
   ]
  },
  {
   "cell_type": "markdown",
   "id": "jewish-delight",
   "metadata": {},
   "source": [
    "__Sentinel 1 VV/VH bands - RVI: 4VH/(VV+VH)__ (VV, VH in natural units - using the \"S1_GRD_FLOAT\" collection)"
   ]
  },
  {
   "cell_type": "code",
   "execution_count": null,
   "id": "primary-sunrise",
   "metadata": {},
   "outputs": [],
   "source": [
    "eepoint           = geeutils.tapspoint\n",
    "eedatefrom        = geeutils.fleecycloudsday\n",
    "eedatetill        = geeutils.fleecycloudsday.advance(1, 'week')\n",
    "verbose           = False\n",
    "\n",
    "geecollection     = geeproduct.GEECol_s1rvi()\n",
    "eesrcimage        = geecollection.collect(eepoint, eedatefrom, eedatetill, verbose=verbose).first()\n",
    "\n",
    "print(geeutils.szestimatevaluesinfo(eesrcimage.clip(eepoint.buffer(1000))))\n",
    "\n",
    "roisizes = [ 1,2,3,4 ]\n",
    "\n",
    "map = geemap.Map(height='600px')\n",
    "map.centerObject(eepoint, 18)\n",
    "map.addLayer(eesrcimage, {'min':0, 'max':4}, 'eesrcimage')\n",
    "\n",
    "for roipixelsdiameter in roisizes:\n",
    "    geecollection.getcollection(\n",
    "        eedatefrom, eedatetill, eepoint, roipixelsdiameter, verbose=verbose)\n",
    "    eerefroi         = geecollection._eerefroi\n",
    "    eeroicenterpoint = geecollection._eeroicenterpoint\n",
    "    eedstimage       = geecollection._eenatimagecollection.first()\n",
    "    map.addLayer(eedstimage, {'min':0, 'max':4}, 'eetrgimage_' + str(roipixelsdiameter))\n",
    "    map.addLayer(geeutils.outlinegeometryimage(eerefroi, 0, 2),         {'palette':'#0000ff'}, 'eerefroi_' + str(roipixelsdiameter))\n",
    "    map.addLayer(geeutils.outlinegeometryimage(eeroicenterpoint, 1, 2), {'palette':'#00ff00'}, 'eeroicenterpoint_' + str(roipixelsdiameter))\n",
    "\n",
    "    map.addLayer(geeutils.outlinegeometryimage(eepoint,          1, 2), {'palette':'#ff0000'}, 'eepoint')\n",
    "map"
   ]
  },
  {
   "cell_type": "markdown",
   "id": "novel-amount",
   "metadata": {},
   "source": [
    "__Sentinel 2 radio bands: ndvi__"
   ]
  },
  {
   "cell_type": "code",
   "execution_count": null,
   "id": "muslim-monte",
   "metadata": {},
   "outputs": [],
   "source": [
    "eepoint           = geeutils.tapspoint\n",
    "eedatefrom        = geeutils.fleecycloudsday\n",
    "eedatetill        = geeutils.fleecycloudsday.advance(1, 'week')\n",
    "verbose           = False\n",
    "\n",
    "geecollection     = geeproduct.GEECol_s2ndvi()\n",
    "eesrcimage        = geecollection.collect(eepoint, eedatefrom, eedatetill, verbose=verbose).first()\n",
    "\n",
    "print(geeutils.szestimatevaluesinfo(eesrcimage.clip(eepoint.buffer(1000))))\n",
    "\n",
    "roisizes = [ 1,2,3,4 ]\n",
    "\n",
    "map = geemap.Map(height='600px')\n",
    "map.centerObject(eepoint, 18)\n",
    "map.addLayer(eesrcimage, {'min':0,  'max':1, 'palette':geeutils.ndvivisParamsPalette}, 'eesrcimage')\n",
    "\n",
    "for roipixelsdiameter in roisizes:\n",
    "    geecollection.getcollection(\n",
    "        eedatefrom, eedatetill, eepoint, roipixelsdiameter, verbose=verbose)\n",
    "    eerefroi         = geecollection._eerefroi\n",
    "    eeroicenterpoint = geecollection._eeroicenterpoint\n",
    "    eedstimage       = geecollection._eenatimagecollection.first()\n",
    "    map.addLayer(eedstimage, {'min':0,  'max':1, 'palette':geeutils.ndvivisParamsPalette}, 'eetrgimage_' + str(roipixelsdiameter))\n",
    "    map.addLayer(geeutils.outlinegeometryimage(eerefroi, 0, 2),         {'palette':'#0000ff'}, 'eerefroi_' + str(roipixelsdiameter))\n",
    "    map.addLayer(geeutils.outlinegeometryimage(eeroicenterpoint, 2, 2), {'palette':'#0000ff'}, 'eeroicenterpoint_' + str(roipixelsdiameter))\n",
    "\n",
    "    map.addLayer(geeutils.outlinegeometryimage(eepoint,          2, 2), {'palette':'#ff0000'}, 'eepoint')\n",
    "map"
   ]
  },
  {
   "cell_type": "markdown",
   "id": "hundred-device",
   "metadata": {},
   "source": [
    "__Sentinel 2 radio bands: fapar__"
   ]
  },
  {
   "cell_type": "code",
   "execution_count": null,
   "id": "approved-pavilion",
   "metadata": {},
   "outputs": [],
   "source": [
    "eepoint           = geeutils.tapspoint\n",
    "eedatefrom        = geeutils.fleecycloudsday\n",
    "eedatetill        = geeutils.fleecycloudsday.advance(1, 'week')\n",
    "verbose           = False\n",
    "\n",
    "geecollection     = geeproduct.GEECol_s2fapar()\n",
    "eesrcimage        = geecollection.collect(eepoint, eedatefrom, eedatetill, verbose=verbose).first()\n",
    "\n",
    "print(geeutils.szestimatevaluesinfo(eesrcimage.clip(eepoint.buffer(1000))))\n",
    "\n",
    "roisizes = [ 1,2,3,4 ]\n",
    "\n",
    "map = geemap.Map(height='600px')\n",
    "map.centerObject(eepoint, 18)\n",
    "map.addLayer(eesrcimage, {'min':0,  'max':1, 'palette':geeutils.faparvisParamsPalette}, 'eesrcimage')\n",
    "\n",
    "for roipixelsdiameter in roisizes:\n",
    "    geecollection.getcollection(\n",
    "        eedatefrom, eedatetill, eepoint, roipixelsdiameter, verbose=verbose)\n",
    "    eerefroi         = geecollection._eerefroi\n",
    "    eeroicenterpoint = geecollection._eeroicenterpoint\n",
    "    eedstimage       = geecollection._eenatimagecollection.first()\n",
    "    map.addLayer(eedstimage, {'min':0,  'max':1, 'palette':geeutils.faparvisParamsPalette}, 'eetrgimage_' + str(roipixelsdiameter))\n",
    "    map.addLayer(geeutils.outlinegeometryimage(eerefroi, 0, 2),         {'palette':'#0000ff'}, 'eerefroi_' + str(roipixelsdiameter))\n",
    "    map.addLayer(geeutils.outlinegeometryimage(eeroicenterpoint, 2, 2), {'palette':'#0000ff'}, 'eeroicenterpoint_' + str(roipixelsdiameter))\n",
    "\n",
    "    map.addLayer(geeutils.outlinegeometryimage(eepoint,          2, 2), {'palette':'#ff0000'}, 'eepoint')\n",
    "map"
   ]
  },
  {
   "cell_type": "markdown",
   "id": "french-problem",
   "metadata": {},
   "source": [
    "__Sentinel 2 SCL band__"
   ]
  },
  {
   "cell_type": "code",
   "execution_count": null,
   "id": "champion-glucose",
   "metadata": {
    "scrolled": false
   },
   "outputs": [],
   "source": [
    "eepoint           = geeutils.tapspoint\n",
    "eedatefrom        = geeutils.fleecycloudsday\n",
    "eedatetill        = geeutils.fleecycloudsday.advance(1, 'week')\n",
    "verbose           = False\n",
    "\n",
    "geecollection     = geeproduct.GEECol_s2scl()\n",
    "eesrcimage        = geecollection.collect(eepoint, eedatefrom, eedatetill, verbose=verbose).first()\n",
    "\n",
    "print(geeutils.szestimatevaluesinfo(eesrcimage.clip(eepoint.buffer(1000))))\n",
    "\n",
    "roisizes = [ 1,2,3,4 ]\n",
    "\n",
    "map = geemap.Map(height='600px')\n",
    "map.centerObject(eepoint, 18)\n",
    "map.addLayer(eesrcimage, geeutils.s2sclvisParams, 'eesrcimage')\n",
    "\n",
    "for roipixelsdiameter in roisizes:\n",
    "    geecollection.getcollection(\n",
    "        eedatefrom, eedatetill, eepoint, roipixelsdiameter, verbose=verbose)\n",
    "    eerefroi         = geecollection._eerefroi\n",
    "    eeroicenterpoint = geecollection._eeroicenterpoint\n",
    "    eedstimage       = geecollection._eenatimagecollection.first()\n",
    "    map.addLayer(eedstimage, geeutils.s2sclvisParams, 'eetrgimage_' + str(roipixelsdiameter))\n",
    "    map.addLayer(geeutils.outlinegeometryimage(eerefroi, 0, 2),         {'palette':'#0000ff'}, 'eerefroi_' + str(roipixelsdiameter))\n",
    "    map.addLayer(geeutils.outlinegeometryimage(eeroicenterpoint, 2, 2), {'palette':'#0000ff'}, 'eeroicenterpoint_' + str(roipixelsdiameter))\n",
    "\n",
    "    map.addLayer(geeutils.outlinegeometryimage(eepoint,          2, 2), {'palette':'#ff0000'}, 'eepoint')\n",
    "map"
   ]
  },
  {
   "cell_type": "markdown",
   "id": "baking-study",
   "metadata": {},
   "source": [
    "__Sentinel 2 SCL ConvMask band__"
   ]
  },
  {
   "cell_type": "code",
   "execution_count": null,
   "id": "diverse-blackberry",
   "metadata": {},
   "outputs": [],
   "source": [
    "eepoint           = geeutils.tapspoint\n",
    "eedatefrom        = geeutils.fleecycloudsday\n",
    "eedatetill        = geeutils.fleecycloudsday.advance(1, 'week')\n",
    "verbose           = False\n",
    "\n",
    "\n",
    "eexxximage        = geeproduct.GEECol_s2rgb().collect(eepoint, eedatefrom, eedatetill, verbose=verbose).first()\n",
    "\n",
    "geecollection     = geeproduct.GEECol_s2sclsclconvmask()\n",
    "print(geeutils.szestimatevaluesinfo(eesrcimage.clip(eepoint.buffer(1000))))\n",
    "\n",
    "roisizes = [ 1,2,3,4 ]\n",
    "\n",
    "map = geemap.Map(height='600px')\n",
    "map.centerObject(eepoint, 14)\n",
    "map.addLayer(eexxximage, {'min':1,  'max':255}, 'rgb')\n",
    "\n",
    "for roipixelsdiameter in roisizes:\n",
    "    geecollection.getcollection(\n",
    "        eedatefrom, eedatetill, eepoint, roipixelsdiameter, verbose=verbose)\n",
    "    eerefroi         = geecollection._eerefroi\n",
    "    eeroicenterpoint = geecollection._eeroicenterpoint\n",
    "    eedstimage       = geecollection._eenatimagecollection.first()\n",
    "    eedstimage       = eedstimage.updateMask(eedstimage.eq(1)) # clear sky transparant\n",
    "\n",
    "    map.addLayer(eedstimage, {'min':0,  'max':1}, 'eetrgimage_' + str(roipixelsdiameter))\n",
    "    map.addLayer(geeutils.outlinegeometryimage(eerefroi, 0, 2),         {'palette':'#0000ff'}, 'eerefroi_' + str(roipixelsdiameter))\n",
    "    map.addLayer(geeutils.outlinegeometryimage(eeroicenterpoint, 2, 2), {'palette':'#0000ff'}, 'eeroicenterpoint_' + str(roipixelsdiameter))\n",
    "\n",
    "    map.addLayer(geeutils.outlinegeometryimage(eepoint,          2, 2), {'palette':'#ff0000'}, 'eepoint')\n",
    "map"
   ]
  },
  {
   "cell_type": "code",
   "execution_count": null,
   "id": "pacific-mapping",
   "metadata": {},
   "outputs": [],
   "source": []
  }
 ],
 "metadata": {
  "kernelspec": {
   "display_name": "Python 3",
   "language": "python",
   "name": "python3"
  },
  "language_info": {
   "codemirror_mode": {
    "name": "ipython",
    "version": 3
   },
   "file_extension": ".py",
   "mimetype": "text/x-python",
   "name": "python",
   "nbconvert_exporter": "python",
   "pygments_lexer": "ipython3",
   "version": "3.8.5"
  }
 },
 "nbformat": 4,
 "nbformat_minor": 5
}
