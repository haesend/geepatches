{
 "cells": [
  {
   "cell_type": "markdown",
   "id": "minor-latex",
   "metadata": {},
   "source": [
    "***\n",
    "__SingleConvMask & ConvMask__\n",
    "***"
   ]
  },
  {
   "cell_type": "code",
   "execution_count": null,
   "id": "nuclear-middle",
   "metadata": {},
   "outputs": [],
   "source": [
    "import geemap\n",
    "import ee\n",
    "if not ee.data._credentials: ee.Initialize()\n",
    "\n",
    "import sys\n",
    "sys.path.append('../src/geepatches')\n",
    "import geeutils\n",
    "import geeproduct\n",
    "import geemask"
   ]
  },
  {
   "cell_type": "markdown",
   "id": "subject-domain",
   "metadata": {},
   "source": [
    "__SingleConvMask__"
   ]
  },
  {
   "cell_type": "code",
   "execution_count": null,
   "id": "renewable-found",
   "metadata": {},
   "outputs": [],
   "source": [
    "eepoint       = geeutils.bobspoint\n",
    "eedatefrom    = geeutils.fleecycloudsday\n",
    "eedatetill    = eedatefrom.advance(1, 'day')\n",
    "roidiameter   = 64\n",
    "eeroi         = geeutils.squareareaboundsroi(eepoint, roidiameter/2*20)\n",
    "verbose       = False\n",
    "#\n",
    "# use s2rgb and s2ndvi product as background\n",
    "#\n",
    "s2rgbimage    = geeproduct.GEECol_s2rgb().collect(eeroi, eedatefrom, eedatetill, verbose=verbose).first()\n",
    "print (geeutils.szprojectioninfo(s2rgbimage))\n",
    "print (geeutils.szestimatevaluesinfo(s2rgbimage.clip(eeroi))) # clip; otherwise unbounded\n",
    "\n",
    "s2ndviimage    = geeproduct.GEECol_s2ndvi().collect(eeroi, eedatefrom, eedatetill, verbose=verbose).first()\n",
    "print (geeutils.szprojectioninfo(s2ndviimage))\n",
    "print (geeutils.szestimatevaluesinfo(s2ndviimage.clip(eeroi))) # clip; otherwise unbounded\n",
    "\n",
    "#\n",
    "# making scl based masks\n",
    "#\n",
    "s2sclimage    = geeproduct.GEECol_s2scl().collect(eeroi, eedatefrom, eedatetill, verbose=verbose).first()\n",
    "c1mskimage    = geemask.SingleConvMask([2, 4, 5, 6, 7],   20*9,   -0.057).makemask(s2sclimage)\n",
    "c2mskimage    = geemask.SingleConvMask([3, 8, 9, 10, 11], 20*101,  0.025).makemask(s2sclimage)\n",
    "\n",
    "if True:\n",
    "    #\n",
    "    # make clear sky transparant, clouds opaque\n",
    "    #\n",
    "    # SingleConvMask:\n",
    "    #    masked:     1 -> updateMask( img.eq(1)) == updateMask(True  (1)) -> img.mask() to 1 : gee clear  (opaque)\n",
    "    #    clear :     0 -> updateMask( img.eq(1)) == updateMask(False (0)) -> img.mask() to 0 : gee masked (transparent)\n",
    "    #    no data :   gee masked (default transparent)\n",
    "    #\n",
    "    c1mskimage    = c1mskimage.updateMask(c1mskimage.eq(1))\n",
    "    c2mskimage    = c2mskimage.updateMask(c2mskimage.eq(1))\n",
    "\n",
    "    \n",
    "map = geemap.Map(height='600px')\n",
    "map.centerObject(eepoint, 13)\n",
    "map.addLayer(s2rgbimage,                                 {'min': 1,  'max':255},                 'rgb')\n",
    "map.addLayer(s2ndviimage,                                {'min':-1,  'max':1},                  'ndvi')\n",
    "map.addLayer(s2sclimage,                                 geeutils.s2sclvisParams,                'scl')\n",
    "map.addLayer(c2mskimage,                                 {'min':0,  'max':1, 'opacity':0.8, 'palette':['#000000','#0000ff']}, 'c2')\n",
    "map.addLayer(c1mskimage,                                 {'min':0,  'max':1, 'opacity':0.8, 'palette':['#000000','#00ffff']}, 'c1')\n",
    "map.addLayer(geeutils.outlinegeometryimage(eeroi, 0, 1), {'palette':'#ff0000'})\n",
    "map"
   ]
  },
  {
   "cell_type": "markdown",
   "id": "criminal-vacuum",
   "metadata": {},
   "source": [
    "__ConvMask__\n",
    "- combines multiple SingleConvMask's\n",
    "- mind the syntax (list-of-list)"
   ]
  },
  {
   "cell_type": "code",
   "execution_count": null,
   "id": "convenient-maximum",
   "metadata": {},
   "outputs": [],
   "source": [
    "eepoint       = geeutils.bobspoint\n",
    "eedatefrom    = geeutils.fleecycloudsday\n",
    "eedatetill    = eedatefrom.advance(1, 'day')\n",
    "roidiameter   = 64\n",
    "eeroi         = geeutils.squareareaboundsroi(eepoint, roidiameter/2*20)\n",
    "verbose       = False\n",
    "#\n",
    "# use s2rgb and s2ndvi product as background\n",
    "#\n",
    "s2rgbimage    = geeproduct.GEECol_s2rgb().collect(eeroi, eedatefrom, eedatetill, verbose=verbose).first()\n",
    "print (geeutils.szprojectioninfo(s2rgbimage))\n",
    "print (geeutils.szestimatevaluesinfo(s2rgbimage.clip(eeroi))) # clip; otherwise unbounded\n",
    "\n",
    "s2ndviimage    = geeproduct.GEECol_s2ndvi().collect(eeroi, eedatefrom, eedatetill, verbose=verbose).first()\n",
    "print (geeutils.szprojectioninfo(s2ndviimage))\n",
    "print (geeutils.szestimatevaluesinfo(s2ndviimage.clip(eeroi))) # clip; otherwise unbounded\n",
    "\n",
    "#\n",
    "# making scl based masks\n",
    "#\n",
    "s2sclimage    = geeproduct.GEECol_s2scl().collect(eeroi, eedatefrom, eedatetill, verbose=verbose).first()\n",
    "c1mskimage    = geemask.ConvMask([[2, 4, 5, 6, 7]],   [20*9],   [-0.057]).makemask(s2sclimage)\n",
    "c2mskimage    = geemask.ConvMask([[3, 8, 9, 10, 11]], [20*101], [0.025]).makemask(s2sclimage)\n",
    "\n",
    "ccmskimage    = geemask.ConvMask([[2, 4, 5, 6, 7], [3, 8, 9, 10, 11]],\n",
    "                                  [20*9,            20*101],\n",
    "                                  [-0.057,           0.025]).makemask(s2sclimage)\n",
    "\n",
    "if True:\n",
    "    #\n",
    "    # make clear sky transparant, clouds opaque\n",
    "    #\n",
    "    # ConvMask:\n",
    "    #    masked:     1 -> updateMask( img.eq(1)) == updateMask(True  (1)) -> img.mask() to 1 : gee clear  (opaque)\n",
    "    #    clear :     0 -> updateMask( img.eq(1)) == updateMask(False (0)) -> img.mask() to 0 : gee masked (transparent)\n",
    "    #    no data :   gee masked (default transparent)\n",
    "    #\n",
    "    c1mskimage    = c1mskimage.updateMask(c1mskimage.eq(1))\n",
    "    c2mskimage    = c2mskimage.updateMask(c2mskimage.eq(1))\n",
    "\n",
    "    ccmskimage    = ccmskimage.updateMask(ccmskimage.eq(1))\n",
    "\n",
    "    \n",
    "map = geemap.Map(height='600px')\n",
    "map.centerObject(eepoint, 13)\n",
    "map.addLayer(s2rgbimage,                                 {'min': 1,  'max':255},                 'rgb')\n",
    "map.addLayer(s2ndviimage,                                {'min':-1,  'max':1},                  'ndvi')\n",
    "map.addLayer(s2sclimage,                                 geeutils.s2sclvisParams,                'scl')\n",
    "map.addLayer(c2mskimage,                                 {'min':0,  'max':1, 'opacity':0.8, 'palette':['#000000','#0000ff']}, 'c2')\n",
    "map.addLayer(c1mskimage,                                 {'min':0,  'max':1, 'opacity':0.8, 'palette':['#000000','#00ffff']}, 'c1')\n",
    "map.addLayer(ccmskimage,                                 {'min':0,  'max':1, 'opacity':0.7, 'palette':['#000000','#ff0000']}, 'cc')\n",
    "map.addLayer(geeutils.outlinegeometryimage(eeroi, 0, 1), {'palette':'#ff0000'})\n",
    "map"
   ]
  },
  {
   "cell_type": "code",
   "execution_count": null,
   "id": "lightweight-research",
   "metadata": {},
   "outputs": [],
   "source": []
  }
 ],
 "metadata": {
  "kernelspec": {
   "display_name": "Python 3",
   "language": "python",
   "name": "python3"
  },
  "language_info": {
   "codemirror_mode": {
    "name": "ipython",
    "version": 3
   },
   "file_extension": ".py",
   "mimetype": "text/x-python",
   "name": "python",
   "nbconvert_exporter": "python",
   "pygments_lexer": "ipython3",
   "version": "3.8.5"
  }
 },
 "nbformat": 4,
 "nbformat_minor": 5
}
