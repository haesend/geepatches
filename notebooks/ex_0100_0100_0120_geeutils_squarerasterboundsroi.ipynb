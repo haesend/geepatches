{
 "cells": [
  {
   "cell_type": "markdown",
   "id": "australian-luther",
   "metadata": {},
   "source": [
    "***\n",
    "some experiments with roi geometries: geeutils.squarerasterboundsroi\n",
    "***"
   ]
  },
  {
   "cell_type": "code",
   "execution_count": null,
   "id": "critical-device",
   "metadata": {},
   "outputs": [],
   "source": [
    "import geemap\n",
    "import ee\n",
    "if not ee.data._credentials: ee.Initialize()\n",
    "\n",
    "import sys\n",
    "sys.path.append('../src/geepatches')\n",
    "import geeutils\n",
    "\n"
   ]
  },
  {
   "cell_type": "markdown",
   "id": "geological-front",
   "metadata": {},
   "source": [
    "***\n",
    "__squarerasterboundsroi(eepoint, pixels, eeprojection)__\n",
    "- aims to create square roi\n",
    "- congruent with the raster of the specified image (or projection)\n",
    "- radius (half-width) specified in pixels (units as specified via projection)\n",
    "***\n"
   ]
  },
  {
   "cell_type": "markdown",
   "id": "breeding-equality",
   "metadata": {},
   "source": [
    "__Proba V 333m__"
   ]
  },
  {
   "cell_type": "code",
   "execution_count": null,
   "id": "suitable-chaos",
   "metadata": {},
   "outputs": [],
   "source": [
    "eepoint = geeutils.tapspoint\n",
    "eedate  = geeutils.fleecycloudsday\n",
    "eeimage = geeutils.somePV333ndviImageNear(eedate, eepoint)\n",
    "\n",
    "#print(geeutils.szestimatevaluesinfo(eeimage.clip(eepoint.buffer(10*333))))\n",
    "\n",
    "rois = [geeutils.squarerasterboundsroi(eepoint, pixels, eeimage) for pixels in [0.5, 1, 1.5, 2, 2.5, 3.5]]\n",
    "\n",
    "map = geemap.Map(height='300px')\n",
    "map.centerObject(eepoint, 14)\n",
    "map.addLayer(eeimage, {'min':0, 'max':1})\n",
    "for roi in rois:\n",
    "    #print(geeutils.szgeometryinfo(roi))\n",
    "    map.addLayer(geeutils.outlinegeometryimage(roi),        {'palette':'#ff0000'})\n",
    "map.addLayer(geeutils.outlinegeometryimage(eepoint, 10, 2), {'palette':'#000000'})\n",
    "map\n"
   ]
  },
  {
   "cell_type": "markdown",
   "id": "appropriate-portsmouth",
   "metadata": {},
   "source": [
    "__Sentinel 1 VV/VH bands__"
   ]
  },
  {
   "cell_type": "code",
   "execution_count": null,
   "id": "isolated-router",
   "metadata": {},
   "outputs": [],
   "source": [
    "eepoint = geeutils.tapspoint\n",
    "eedate  = geeutils.fleecycloudsday\n",
    "eeimage = geeutils.someS1rviImageNear(eedate, eepoint)\n",
    "\n",
    "print(geeutils.szestimatevaluesinfo(eeimage))\n",
    "\n",
    "rois = [geeutils.squarerasterboundsroi(eepoint, pixels, eeimage) for pixels in [0.5, 1, 3.5, 4.5]]\n",
    "\n",
    "map = geemap.Map(height='300px')\n",
    "map.centerObject(eepoint, 18)\n",
    "map.addLayer(eeimage, {'min':0, 'max':1})\n",
    "for roi in rois:\n",
    "    #print(geeutils.szgeometryinfo(roi))\n",
    "    map.addLayer(geeutils.outlinegeometryimage(roi),       {'palette':'#ff0000'})\n",
    "map.addLayer(geeutils.outlinegeometryimage(eepoint, 3, 2), {'palette':'#000000'})\n",
    "map"
   ]
  },
  {
   "cell_type": "markdown",
   "id": "average-acrylic",
   "metadata": {},
   "source": [
    "__Sentinel 1 'angle' band__"
   ]
  },
  {
   "cell_type": "code",
   "execution_count": null,
   "id": "unknown-frontier",
   "metadata": {},
   "outputs": [],
   "source": [
    "eepoint = geeutils.tapspoint\n",
    "\n",
    "eeimage = geeutils.someImageNear(geeutils.s1rbgImageCollection.select(['angle']), geeutils.fleecycloudsday, eepoint)\n",
    "#print(geeutils.szestimatevaluesinfo(eeimage))\n",
    "#print(geeutils.szimagecollectioninfo(eeimage))\n",
    "\n",
    "rois = [geeutils.squarerasterboundsroi(eepoint, pixels, eeimage) for pixels in [0.5,1,2,3,10]]\n",
    "\n",
    "map = geemap.Map(height='300px')\n",
    "map.centerObject(eepoint, 6)\n",
    "map.addLayer(eeimage, {'min':30, 'max':45})\n",
    "for roi in rois:\n",
    "    #print(geeutils.szgeometryinfo(roi))\n",
    "    map.addLayer(geeutils.outlinegeometryimage(roi),       {'palette':'#ff0000'})\n",
    "map.addLayer(geeutils.outlinegeometryimage(eepoint, 3, 2), {'palette':'#000000'})\n",
    "map"
   ]
  },
  {
   "cell_type": "markdown",
   "id": "white-cosmetic",
   "metadata": {},
   "source": [
    "__Sentinel 2 radio bands__"
   ]
  },
  {
   "cell_type": "code",
   "execution_count": null,
   "id": "impressive-rapid",
   "metadata": {},
   "outputs": [],
   "source": [
    "eepoint = geeutils.tapspoint\n",
    "eedate  = geeutils.fleecycloudsday\n",
    "eeimage = geeutils.someS2ndviImageNear(eedate, eepoint)\n",
    "\n",
    "print(geeutils.szestimatevaluesinfo(eeimage))\n",
    "\n",
    "rois = [geeutils.squarerasterboundsroi(eepoint, pixels, eeimage) for pixels in [0.5, 1.5, 2.5, 9.5]]\n",
    "\n",
    "map = geemap.Map(height='300px')\n",
    "map.centerObject(eepoint, 17)\n",
    "map.addLayer(eeimage, {'min':0, 'max':1})\n",
    "for roi in rois:\n",
    "    #print(geeutils.szgeometryinfo(roi))\n",
    "    map.addLayer(geeutils.outlinegeometryimage(roi),       {'palette':'#ff0000'})\n",
    "map.addLayer(geeutils.outlinegeometryimage(eepoint, 3, 2), {'palette':'#ffffff'})\n",
    "map"
   ]
  },
  {
   "cell_type": "code",
   "execution_count": null,
   "id": "afraid-lover",
   "metadata": {},
   "outputs": [],
   "source": []
  }
 ],
 "metadata": {
  "kernelspec": {
   "display_name": "Python 3",
   "language": "python",
   "name": "python3"
  },
  "language_info": {
   "codemirror_mode": {
    "name": "ipython",
    "version": 3
   },
   "file_extension": ".py",
   "mimetype": "text/x-python",
   "name": "python",
   "nbconvert_exporter": "python",
   "pygments_lexer": "ipython3",
   "version": "3.8.5"
  }
 },
 "nbformat": 4,
 "nbformat_minor": 5
}
